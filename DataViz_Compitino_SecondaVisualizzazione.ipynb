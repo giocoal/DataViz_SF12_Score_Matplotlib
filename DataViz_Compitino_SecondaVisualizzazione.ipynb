{
  "nbformat": 4,
  "nbformat_minor": 0,
  "metadata": {
    "colab": {
      "name": "DataViz_Compitino_SecondaVisualizzazione.ipynb",
      "provenance": []
    },
    "kernelspec": {
      "name": "python3",
      "display_name": "Python 3"
    },
    "language_info": {
      "name": "python"
    }
  },
  "cells": [
    {
      "cell_type": "markdown",
      "source": [
        ""
      ],
      "metadata": {
        "id": "LYnWuufKGP4n"
      }
    },
    {
      "cell_type": "markdown",
      "source": [
        "# Import Pacchetti"
      ],
      "metadata": {
        "id": "JlD8yW5SGRRw"
      }
    },
    {
      "cell_type": "code",
      "source": [
        "import pandas as pd\n",
        "import matplotlib as plm\n",
        "import matplotlib.pyplot as plt\n",
        "from matplotlib import cm\n",
        "from matplotlib import colors as mcolors\n",
        "import seaborn as sns\n",
        "import numpy as np\n",
        "from numpy import median\n",
        "from seaborn import JointGrid"
      ],
      "metadata": {
        "id": "zhTEsRhyGUjm"
      },
      "execution_count": 1,
      "outputs": []
    },
    {
      "cell_type": "markdown",
      "source": [
        "# Cleaning e manipolazione Dataset"
      ],
      "metadata": {
        "id": "04x8gCIHGcOk"
      }
    },
    {
      "cell_type": "markdown",
      "source": [
        "## Import + clenaning"
      ],
      "metadata": {
        "id": "XDq7l9kJHR9f"
      }
    },
    {
      "cell_type": "code",
      "source": [
        "df = pd.read_csv('compitino_dataviz_2021_2022.csv')"
      ],
      "metadata": {
        "id": "ENAvpSlgGgHN"
      },
      "execution_count": 18,
      "outputs": []
    },
    {
      "cell_type": "code",
      "source": [
        "physical = df[df['nome_modulistica'] == 'SF12 PhysicalScore'].reset_index()\n",
        "physical = physical.rename(columns = {'score_preop':'physical_score_preop', 'score_postop':'physical_score_postop'})"
      ],
      "metadata": {
        "id": "OjXjtbRJGxuu"
      },
      "execution_count": 19,
      "outputs": []
    },
    {
      "cell_type": "code",
      "source": [
        "mental = df[df['nome_modulistica'] == 'SF12 MentalScore'].reset_index()\n",
        "mental = mental.rename(columns = {'score_preop':'mental_score_preop', 'score_postop':'mental_score_postop'})"
      ],
      "metadata": {
        "id": "tY3M1VspG1Yd"
      },
      "execution_count": 20,
      "outputs": []
    },
    {
      "cell_type": "code",
      "source": [
        "df1 = pd.concat([physical, mental[['mental_score_preop', 'mental_score_postop']]], axis = 1)"
      ],
      "metadata": {
        "id": "4vMN8-CsG7Fq"
      },
      "execution_count": 21,
      "outputs": []
    },
    {
      "cell_type": "code",
      "source": [
        "df1.drop('index', axis = 1, inplace = True)\n",
        "df1.drop('nome_modulistica', axis = 1, inplace = True)\n",
        "columns_names = ['physical_score_preop',\n",
        " 'physical_score_postop', \n",
        " 'mental_score_preop',\n",
        " 'mental_score_postop',\n",
        " 'condizioni_meteo',\n",
        " 'sesso',\n",
        " 'anni_ricovero',\n",
        " 'temperatura_media',\n",
        " 'umidita_media',\n",
        " 'HI > 27',\n",
        " 'natural_light']\n",
        "df1 = df1.reindex(columns=columns_names)\n",
        "df1.head()"
      ],
      "metadata": {
        "colab": {
          "base_uri": "https://localhost:8080/",
          "height": 0
        },
        "id": "ZT_vtBeiG8s0",
        "outputId": "62b11d2f-769d-47f7-b11f-9d78d377a375"
      },
      "execution_count": 22,
      "outputs": [
        {
          "output_type": "execute_result",
          "data": {
            "text/html": [
              "\n",
              "  <div id=\"df-4923c7ff-840d-4f7d-8705-4ad1641f4a30\">\n",
              "    <div class=\"colab-df-container\">\n",
              "      <div>\n",
              "<style scoped>\n",
              "    .dataframe tbody tr th:only-of-type {\n",
              "        vertical-align: middle;\n",
              "    }\n",
              "\n",
              "    .dataframe tbody tr th {\n",
              "        vertical-align: top;\n",
              "    }\n",
              "\n",
              "    .dataframe thead th {\n",
              "        text-align: right;\n",
              "    }\n",
              "</style>\n",
              "<table border=\"1\" class=\"dataframe\">\n",
              "  <thead>\n",
              "    <tr style=\"text-align: right;\">\n",
              "      <th></th>\n",
              "      <th>physical_score_preop</th>\n",
              "      <th>physical_score_postop</th>\n",
              "      <th>mental_score_preop</th>\n",
              "      <th>mental_score_postop</th>\n",
              "      <th>condizioni_meteo</th>\n",
              "      <th>sesso</th>\n",
              "      <th>anni_ricovero</th>\n",
              "      <th>temperatura_media</th>\n",
              "      <th>umidita_media</th>\n",
              "      <th>HI &gt; 27</th>\n",
              "      <th>natural_light</th>\n",
              "    </tr>\n",
              "  </thead>\n",
              "  <tbody>\n",
              "    <tr>\n",
              "      <th>0</th>\n",
              "      <td>27.60</td>\n",
              "      <td>37.40</td>\n",
              "      <td>54.36</td>\n",
              "      <td>58.46</td>\n",
              "      <td>poco nuvoloso</td>\n",
              "      <td>F</td>\n",
              "      <td>70</td>\n",
              "      <td>20.0</td>\n",
              "      <td>69.0</td>\n",
              "      <td>False</td>\n",
              "      <td>True</td>\n",
              "    </tr>\n",
              "    <tr>\n",
              "      <th>1</th>\n",
              "      <td>28.15</td>\n",
              "      <td>38.25</td>\n",
              "      <td>57.02</td>\n",
              "      <td>64.62</td>\n",
              "      <td>poco nuvoloso</td>\n",
              "      <td>M</td>\n",
              "      <td>69</td>\n",
              "      <td>18.0</td>\n",
              "      <td>65.0</td>\n",
              "      <td>False</td>\n",
              "      <td>True</td>\n",
              "    </tr>\n",
              "    <tr>\n",
              "      <th>2</th>\n",
              "      <td>31.57</td>\n",
              "      <td>55.67</td>\n",
              "      <td>60.27</td>\n",
              "      <td>58.47</td>\n",
              "      <td>poco nuvoloso</td>\n",
              "      <td>M</td>\n",
              "      <td>70</td>\n",
              "      <td>23.0</td>\n",
              "      <td>74.0</td>\n",
              "      <td>False</td>\n",
              "      <td>True</td>\n",
              "    </tr>\n",
              "    <tr>\n",
              "      <th>3</th>\n",
              "      <td>34.28</td>\n",
              "      <td>57.08</td>\n",
              "      <td>50.17</td>\n",
              "      <td>54.97</td>\n",
              "      <td>poco nuvoloso</td>\n",
              "      <td>F</td>\n",
              "      <td>66</td>\n",
              "      <td>15.0</td>\n",
              "      <td>72.0</td>\n",
              "      <td>False</td>\n",
              "      <td>True</td>\n",
              "    </tr>\n",
              "    <tr>\n",
              "      <th>4</th>\n",
              "      <td>27.43</td>\n",
              "      <td>29.13</td>\n",
              "      <td>54.14</td>\n",
              "      <td>55.74</td>\n",
              "      <td>nebbia al mattino</td>\n",
              "      <td>F</td>\n",
              "      <td>73</td>\n",
              "      <td>18.0</td>\n",
              "      <td>75.0</td>\n",
              "      <td>False</td>\n",
              "      <td>True</td>\n",
              "    </tr>\n",
              "  </tbody>\n",
              "</table>\n",
              "</div>\n",
              "      <button class=\"colab-df-convert\" onclick=\"convertToInteractive('df-4923c7ff-840d-4f7d-8705-4ad1641f4a30')\"\n",
              "              title=\"Convert this dataframe to an interactive table.\"\n",
              "              style=\"display:none;\">\n",
              "        \n",
              "  <svg xmlns=\"http://www.w3.org/2000/svg\" height=\"24px\"viewBox=\"0 0 24 24\"\n",
              "       width=\"24px\">\n",
              "    <path d=\"M0 0h24v24H0V0z\" fill=\"none\"/>\n",
              "    <path d=\"M18.56 5.44l.94 2.06.94-2.06 2.06-.94-2.06-.94-.94-2.06-.94 2.06-2.06.94zm-11 1L8.5 8.5l.94-2.06 2.06-.94-2.06-.94L8.5 2.5l-.94 2.06-2.06.94zm10 10l.94 2.06.94-2.06 2.06-.94-2.06-.94-.94-2.06-.94 2.06-2.06.94z\"/><path d=\"M17.41 7.96l-1.37-1.37c-.4-.4-.92-.59-1.43-.59-.52 0-1.04.2-1.43.59L10.3 9.45l-7.72 7.72c-.78.78-.78 2.05 0 2.83L4 21.41c.39.39.9.59 1.41.59.51 0 1.02-.2 1.41-.59l7.78-7.78 2.81-2.81c.8-.78.8-2.07 0-2.86zM5.41 20L4 18.59l7.72-7.72 1.47 1.35L5.41 20z\"/>\n",
              "  </svg>\n",
              "      </button>\n",
              "      \n",
              "  <style>\n",
              "    .colab-df-container {\n",
              "      display:flex;\n",
              "      flex-wrap:wrap;\n",
              "      gap: 12px;\n",
              "    }\n",
              "\n",
              "    .colab-df-convert {\n",
              "      background-color: #E8F0FE;\n",
              "      border: none;\n",
              "      border-radius: 50%;\n",
              "      cursor: pointer;\n",
              "      display: none;\n",
              "      fill: #1967D2;\n",
              "      height: 32px;\n",
              "      padding: 0 0 0 0;\n",
              "      width: 32px;\n",
              "    }\n",
              "\n",
              "    .colab-df-convert:hover {\n",
              "      background-color: #E2EBFA;\n",
              "      box-shadow: 0px 1px 2px rgba(60, 64, 67, 0.3), 0px 1px 3px 1px rgba(60, 64, 67, 0.15);\n",
              "      fill: #174EA6;\n",
              "    }\n",
              "\n",
              "    [theme=dark] .colab-df-convert {\n",
              "      background-color: #3B4455;\n",
              "      fill: #D2E3FC;\n",
              "    }\n",
              "\n",
              "    [theme=dark] .colab-df-convert:hover {\n",
              "      background-color: #434B5C;\n",
              "      box-shadow: 0px 1px 3px 1px rgba(0, 0, 0, 0.15);\n",
              "      filter: drop-shadow(0px 1px 2px rgba(0, 0, 0, 0.3));\n",
              "      fill: #FFFFFF;\n",
              "    }\n",
              "  </style>\n",
              "\n",
              "      <script>\n",
              "        const buttonEl =\n",
              "          document.querySelector('#df-4923c7ff-840d-4f7d-8705-4ad1641f4a30 button.colab-df-convert');\n",
              "        buttonEl.style.display =\n",
              "          google.colab.kernel.accessAllowed ? 'block' : 'none';\n",
              "\n",
              "        async function convertToInteractive(key) {\n",
              "          const element = document.querySelector('#df-4923c7ff-840d-4f7d-8705-4ad1641f4a30');\n",
              "          const dataTable =\n",
              "            await google.colab.kernel.invokeFunction('convertToInteractive',\n",
              "                                                     [key], {});\n",
              "          if (!dataTable) return;\n",
              "\n",
              "          const docLinkHtml = 'Like what you see? Visit the ' +\n",
              "            '<a target=\"_blank\" href=https://colab.research.google.com/notebooks/data_table.ipynb>data table notebook</a>'\n",
              "            + ' to learn more about interactive tables.';\n",
              "          element.innerHTML = '';\n",
              "          dataTable['output_type'] = 'display_data';\n",
              "          await google.colab.output.renderOutput(dataTable, element);\n",
              "          const docLink = document.createElement('div');\n",
              "          docLink.innerHTML = docLinkHtml;\n",
              "          element.appendChild(docLink);\n",
              "        }\n",
              "      </script>\n",
              "    </div>\n",
              "  </div>\n",
              "  "
            ],
            "text/plain": [
              "   physical_score_preop  physical_score_postop  ...  HI > 27  natural_light\n",
              "0                 27.60                  37.40  ...    False           True\n",
              "1                 28.15                  38.25  ...    False           True\n",
              "2                 31.57                  55.67  ...    False           True\n",
              "3                 34.28                  57.08  ...    False           True\n",
              "4                 27.43                  29.13  ...    False           True\n",
              "\n",
              "[5 rows x 11 columns]"
            ]
          },
          "metadata": {},
          "execution_count": 22
        }
      ]
    },
    {
      "cell_type": "markdown",
      "source": [
        "## Aggiunta delle differenze pre-post"
      ],
      "metadata": {
        "id": "jPSUT8mYHIyw"
      }
    },
    {
      "cell_type": "markdown",
      "source": [
        "Genero due nuove colonne contenti le differenze tra gli score post e pre operazione"
      ],
      "metadata": {
        "id": "JVX-0oVrHdQ1"
      }
    },
    {
      "cell_type": "code",
      "source": [
        "physical_score_diff = df1['physical_score_postop'] - df1['physical_score_preop']\n",
        "mental_score_diff = df1['mental_score_postop'] - df1['mental_score_preop']\n",
        "df1.insert(2,\"physical_score_diff\", physical_score_diff)\n",
        "df1.insert(5,\"mental_score_diff\", mental_score_diff)"
      ],
      "metadata": {
        "id": "wsWbeneCHfJw"
      },
      "execution_count": 23,
      "outputs": []
    },
    {
      "cell_type": "markdown",
      "source": [
        "\n",
        "Converto le colonne delle variabili categoriche da stringhe a fattori:"
      ],
      "metadata": {
        "id": "ClZI833aHia0"
      }
    },
    {
      "cell_type": "code",
      "source": [
        "df1['condizioni_meteo'] = df1['condizioni_meteo'].astype(\"category\")\n",
        "df1['sesso'] = df1['sesso'].astype(\"category\")"
      ],
      "metadata": {
        "id": "5pBLN_3bHkO2"
      },
      "execution_count": 24,
      "outputs": []
    },
    {
      "cell_type": "markdown",
      "source": [
        "##Aggiunta differenze physical-mental"
      ],
      "metadata": {
        "id": "K48e9530Huh7"
      }
    },
    {
      "cell_type": "code",
      "source": [
        "physical_mental_diff_postop = df1['physical_score_postop'] - df1['mental_score_postop']\n",
        "physical_mental_diff_preop = df1['physical_score_preop'] - df1['mental_score_preop']\n",
        "df1.insert(6,\"physical_mental_diff_postop\", physical_mental_diff_postop)\n",
        "df1.insert(7,\"physical_mental_diff_preop\", physical_mental_diff_preop)\n",
        "mental_physical_diff_postop = df1['mental_score_postop'] - df1['physical_score_postop'] \n",
        "mental_physical_diff_preop = df1['mental_score_preop'] - df1['physical_score_preop']\n",
        "df1.insert(8,\"mental_physical_diff_postop\", mental_physical_diff_postop)\n",
        "df1.insert(9,\"mental_physical_diff_preop\", mental_physical_diff_preop)"
      ],
      "metadata": {
        "id": "CgvwvtX1HxJj"
      },
      "execution_count": 25,
      "outputs": []
    },
    {
      "cell_type": "markdown",
      "source": [
        "## Splitting del dataset"
      ],
      "metadata": {
        "id": "RUKNWVFiH_HS"
      }
    },
    {
      "cell_type": "code",
      "source": [
        "mental_score_dataset = df[df['nome_modulistica'] == 'SF12 MentalScore']\n",
        "physical_score_dataset = df[df['nome_modulistica'] == 'SF12 PhysicalScore']"
      ],
      "metadata": {
        "id": "GkonQQDbICX-"
      },
      "execution_count": 26,
      "outputs": []
    },
    {
      "cell_type": "markdown",
      "source": [
        "Controllo che il tipo di modulo utilizzato sia sempre SF12 per ogni record"
      ],
      "metadata": {
        "id": "1-ps0RY1IE_z"
      }
    },
    {
      "cell_type": "code",
      "source": [
        "mental_score_dataset['nome_modulistica'].nunique() == physical_score_dataset['nome_modulistica'].nunique() == 1"
      ],
      "metadata": {
        "colab": {
          "base_uri": "https://localhost:8080/"
        },
        "id": "XOBGhYMaIIMI",
        "outputId": "31618220-f6e8-46ee-855d-44a8e0c3ddc2"
      },
      "execution_count": 27,
      "outputs": [
        {
          "output_type": "execute_result",
          "data": {
            "text/plain": [
              "True"
            ]
          },
          "metadata": {},
          "execution_count": 27
        }
      ]
    },
    {
      "cell_type": "markdown",
      "source": [
        "Droppo la colonna nome_modulistica"
      ],
      "metadata": {
        "id": "xxbYNFWMIKkf"
      }
    },
    {
      "cell_type": "code",
      "source": [
        "mental_score_dataset.drop('nome_modulistica', axis = 1, inplace = True)\n",
        "physical_score_dataset.drop('nome_modulistica',  axis = 1, inplace = True)"
      ],
      "metadata": {
        "colab": {
          "base_uri": "https://localhost:8080/"
        },
        "id": "PmBbz6dNINQT",
        "outputId": "c6ddb07f-b1db-493e-f470-552dab3ed4d5"
      },
      "execution_count": 28,
      "outputs": [
        {
          "output_type": "stream",
          "name": "stderr",
          "text": [
            "/usr/local/lib/python3.7/dist-packages/pandas/core/frame.py:4174: SettingWithCopyWarning: \n",
            "A value is trying to be set on a copy of a slice from a DataFrame\n",
            "\n",
            "See the caveats in the documentation: https://pandas.pydata.org/pandas-docs/stable/user_guide/indexing.html#returning-a-view-versus-a-copy\n",
            "  errors=errors,\n"
          ]
        }
      ]
    },
    {
      "cell_type": "markdown",
      "source": [
        "Aggiungo la colonna delle differenze"
      ],
      "metadata": {
        "id": "tYZTN2_TIR94"
      }
    },
    {
      "cell_type": "code",
      "source": [
        "physical_score_dataset.insert(2,\"score_diff\", (physical_score_dataset['score_postop'] - physical_score_dataset['score_preop']).round(3))\n",
        "mental_score_dataset.insert(2,\"score_diff\", (mental_score_dataset['score_postop'] - mental_score_dataset['score_preop']).round(3))"
      ],
      "metadata": {
        "id": "mWi_oQonIU4i"
      },
      "execution_count": 29,
      "outputs": []
    },
    {
      "cell_type": "markdown",
      "source": [
        "##Salvataggio dataset"
      ],
      "metadata": {
        "id": "0tEu_TLxIR45"
      }
    },
    {
      "cell_type": "code",
      "source": [
        "df1.to_csv('dataset_normalizzato_con_differenze.csv', index = False)\n",
        "mental_score_dataset.to_csv('mental_score_SF12.csv', index = False)\n",
        "physical_score_dataset.to_csv('physical_score_SF12.csv', index = False)"
      ],
      "metadata": {
        "id": "NNnXs2bqIf9p"
      },
      "execution_count": 30,
      "outputs": []
    },
    {
      "cell_type": "markdown",
      "source": [
        "# Analisi preliminare per la variabile \"Natural light\""
      ],
      "metadata": {
        "id": "GzualFLBKS8u"
      }
    },
    {
      "cell_type": "code",
      "source": [
        "df1.groupby('natural_light').size()"
      ],
      "metadata": {
        "id": "KUOy69AAKexn"
      },
      "execution_count": null,
      "outputs": []
    },
    {
      "cell_type": "code",
      "source": [
        "df1['physical_score_postop'].mean()"
      ],
      "metadata": {
        "id": "Txvlh48zKfyr"
      },
      "execution_count": null,
      "outputs": []
    },
    {
      "cell_type": "code",
      "source": [
        "df1['mental_score_postop'].mean()"
      ],
      "metadata": {
        "id": "cXA7t8WLKjKB"
      },
      "execution_count": null,
      "outputs": []
    },
    {
      "cell_type": "code",
      "source": [
        "def f_above_physical(row):\n",
        "    if row['physical_score_postop'] >= 42.86:\n",
        "        return 1\n",
        "    elif row['physical_score_postop'] < 42.86:\n",
        "        return 0\n",
        "    \n",
        "def f_above_mental(row):\n",
        "    if row['mental_score_postop'] >= 51.63:\n",
        "        return 1\n",
        "    elif row['mental_score_postop'] < 51.63:\n",
        "        return 0"
      ],
      "metadata": {
        "id": "zLPhuA5LKl_B"
      },
      "execution_count": null,
      "outputs": []
    },
    {
      "cell_type": "code",
      "source": [
        "df1['above_physical'] = df1.apply(f_above_physical, axis = 1)\n",
        "df1['above_mental'] = df1.apply(f_above_mental, axis = 1)\n",
        "df1.head()"
      ],
      "metadata": {
        "id": "dTCBrN6qKm6F"
      },
      "execution_count": null,
      "outputs": []
    },
    {
      "cell_type": "code",
      "source": [
        "df1.groupby(['natural_light', 'above_physical', 'above_mental']).size()"
      ],
      "metadata": {
        "id": "RRS3TcmVKq-m"
      },
      "execution_count": null,
      "outputs": []
    },
    {
      "cell_type": "markdown",
      "source": [
        "Proporzioni:\n",
        "\n",
        "Natural_light = False:\n",
        "\n",
        "quadrante in basso a sinistra (0,0) = 42/121 = 0,347\n",
        "\n",
        "quadrante in alto a sinistra (0,1) = 32/121 = 0,264\n",
        "\n",
        "quadrante in basso a destra (1,0) = 15/121 = 0,124\n",
        "\n",
        "quadrante in alto a destra (1,1) = 32/121 = 0,264\n",
        "\n",
        "\n",
        "Natural_light = True:\n",
        "\n",
        "quadrante in basso a sinistra (0,0) = 261/924 = 0,282\n",
        "\n",
        "quadrante in alto a sinistra (0,1) = 200/924 = 0,216\n",
        "\n",
        "quadrante in basso a destra (1,0) = 104/924 = 0,113\n",
        "\n",
        "quadrante in alto a destra (1,1) = 369/924 = 0,399"
      ],
      "metadata": {
        "id": "I0fmX1-gKv-A"
      }
    },
    {
      "cell_type": "markdown",
      "source": [
        "Per natural_light = True c'è una maggior percentuale di osservazioni in alto a destra (score sia fisico che mentale sopra la media). La luce spinge a dare dei voti più alti?"
      ],
      "metadata": {
        "id": "GneEDPnOK2p_"
      }
    },
    {
      "cell_type": "markdown",
      "source": [
        "# Visualizzazione"
      ],
      "metadata": {
        "id": "9PTUcQBILBBT"
      }
    },
    {
      "cell_type": "code",
      "source": [
        "#Codice Remo Marconzini\n",
        "#definisco la griglia\n",
        "sns.set_style('white')\n",
        "g = sns.JointGrid(height=10, space=0.001, xlim=(0,100), ylim=(0,100))\n",
        "g.fig.patch.set_facecolor('#fbf9f4')\n",
        "g.ax_joint.patch.set_facecolor('#fbf9f4')\n",
        "g.ax_marg_x.patch.set_facecolor('#fbf9f4')\n",
        "g.ax_marg_y.patch.set_facecolor('#fbf9f4')\n",
        "\n",
        "#creare dataframe con le sole righe dove natural_light=True\n",
        "df1_on = df1[df1['natural_light'] == True]\n",
        "\n",
        "#creare dataframe con le sole righe dove natural_light=False\n",
        "df1_off = df1[df1['natural_light'] == False]\n",
        "\n",
        "\n",
        "# creo vettori per plottare la distribuzione congiunta diversificando per la variabile \"natural light\"\n",
        "x, y = df1.physical_score_postop, df1.mental_score_postop\n",
        "#creo due vettori contenenti in uno le osservazioni con natural_light=True, l'altro con le osservazioni \n",
        "# con nantural_light=False\n",
        "x_off, y_off = df1_off.physical_score_postop, df1_off.mental_score_postop\n",
        "x_on, y_on = df1_on.physical_score_postop, df1_on.mental_score_postop\n",
        "\n",
        "#distribuzione congiunta dello score mentale e fisico\n",
        "sns.kdeplot(x=x, y=y, ax=g.ax_joint,hue=df1[\"natural_light\"], palette = {False:'#7570B3', True:'#E6AB02'}, )\n",
        "plt.legend(loc='lower right')\n",
        "\n",
        "#plotto la media congiunta dello score mentale e fisico\n",
        "mean_m = df1['mental_score_postop'].mean()\n",
        "mean_p = df1['physical_score_postop'].mean()\n",
        "g.refline(x=mean_p, y=mean_m, marginal=False)\n",
        "\n",
        "#distribuzioni marginali light off\n",
        "sns.kdeplot(x=x_off, ax = g.ax_marg_x, color='#7570B3', linewidth=1.8, fill=True)\n",
        "sns.kdeplot(y=y_off, ax = g.ax_marg_y, color='#7570B3', linewidth=1.8, fill=True)\n",
        "\n",
        "#distribuzioni marginali light on\n",
        "sns.kdeplot(x=x_on, ax = g.ax_marg_x, color='#E6AB02',linewidth=1.8,fill=True)\n",
        "sns.kdeplot(y=y_on, ax = g.ax_marg_y, color='#E6AB02',linewidth=1.8,fill=True)\n",
        "\n",
        "#Labels\n",
        "g.set_axis_labels('SF12 Physical postoperative PROM score 3 months', 'SF12 Mental postoperative PROM score 3 months', fontsize=16)\n",
        "\n",
        "# Titolo\n",
        "titolo_italiano = \"La somministrazione del questionario in presenza o meno \\ndi luce naturale influenza l'indice SF-12 Physical/Mental \\nScore postoperatorio?\"\n",
        "titolo_inglese = \"\"\n",
        "g.fig.suptitle(\n",
        "    titolo_italiano,\n",
        "    x = 0.022,\n",
        "    y = 1.09,\n",
        "    ha=\"left\",\n",
        "    fontsize=20,\n",
        "    weight=\"bold\",\n",
        "    wrap = True\n",
        ")"
      ],
      "metadata": {
        "id": "u5MP_Mn-LFYu"
      },
      "execution_count": null,
      "outputs": []
    },
    {
      "cell_type": "code",
      "source": [
        "#Codice Gianluca Scuri\n",
        "#creare dataframe con le sole righe dove natural_light=True\n",
        "df1_on = df1[df1['natural_light'] == True]\n",
        "\n",
        "#creare dataframe con le sole righe dove natural_light=False\n",
        "df1_off = df1[df1['natural_light'] == False]\n",
        "\n",
        "#definisco la griglia\n",
        "sns.set_style('whitegrid')\n",
        "g = sns.JointGrid()\n",
        "\n",
        "#creo i vettorie dei due score per on e off\n",
        "x_off, y_off = df1_off.physical_score_postop, df1_off.mental_score_postop\n",
        "x_on, y_on = df1_on.physical_score_postop, df1_on.mental_score_postop\n",
        "\n",
        "#creo i due kde plot\n",
        "sns.kdeplot(x=x_on,\\\n",
        "            y=y_on,\\\n",
        "            ax=g.ax_joint,\\\n",
        "            thresh = 0.21,\\\n",
        "            levels = 10,\\\n",
        "            cmap = 'Oranges_d'\n",
        "            #cmap = None,\\\n",
        "            #colors = shades,\\\n",
        "            #colors = '#E6AB02',\\\n",
        "            #fill = True,\\\n",
        "            )\n",
        "\n",
        "sns.kdeplot(x=x_off,\\\n",
        "            y=y_off,\\\n",
        "            ax=g.ax_joint,\\\n",
        "            thresh = 0.5,\\\n",
        "            levels = 6,\\\n",
        "            cmap = 'Blues_d'\n",
        "            )\n",
        "\n",
        "#distribuzioni marginali light off\n",
        "sns.kdeplot(x=x_off, ax = g.ax_marg_x, shade = True)\n",
        "sns.kdeplot(y=y_off, ax = g.ax_marg_y, shade = True)\n",
        "\n",
        "#distribuzioni marginali light on\n",
        "sns.kdeplot(x=x_on, ax = g.ax_marg_x, shade = True)\n",
        "sns.kdeplot(y=y_on, ax = g.ax_marg_y, shade = True)"
      ],
      "metadata": {
        "id": "Vq8QotAbLQ-x"
      },
      "execution_count": null,
      "outputs": []
    }
  ]
}