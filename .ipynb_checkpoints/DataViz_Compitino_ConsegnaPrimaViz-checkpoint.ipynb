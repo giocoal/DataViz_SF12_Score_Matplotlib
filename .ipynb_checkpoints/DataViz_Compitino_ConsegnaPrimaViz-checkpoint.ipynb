{
 "cells": [
  {
   "cell_type": "markdown",
   "id": "721181de",
   "metadata": {},
   "source": [
    "# Importazione librerie utili"
   ]
  },
  {
   "cell_type": "code",
   "execution_count": 10,
   "id": "09ad7e2f",
   "metadata": {},
   "outputs": [],
   "source": [
    "import pandas as pd\n",
    "import matplotlib as plm\n",
    "import matplotlib.pyplot as plt\n",
    "from matplotlib import cm\n",
    "from matplotlib import colors as mcolors\n",
    "import seaborn as sns\n",
    "import numpy as np\n",
    "from numpy import median\n",
    "from seaborn import JointGrid"
   ]
  },
  {
   "cell_type": "markdown",
   "id": "a6b6c182",
   "metadata": {},
   "source": [
    "# Cleaning e manipolazione dataset"
   ]
  },
  {
   "cell_type": "markdown",
   "id": "15c71983",
   "metadata": {},
   "source": [
    "Al fine di realizzare la nostra visualizzazione, andiamo a manipolare il dataset per renderlo comodo all'uso:"
   ]
  },
  {
   "cell_type": "markdown",
   "id": "05099fa0",
   "metadata": {},
   "source": [
    "Leggo il dataset:"
   ]
  },
  {
   "cell_type": "code",
   "execution_count": 11,
   "id": "b7390e6f",
   "metadata": {},
   "outputs": [],
   "source": [
    "df = pd.read_csv('compitino_dataviz_2021_2022.csv')"
   ]
  },
  {
   "cell_type": "markdown",
   "id": "977518cf",
   "metadata": {},
   "source": [
    "Divido righe MentalScore e PhisicalScore:"
   ]
  },
  {
   "cell_type": "code",
   "execution_count": 12,
   "id": "3458fd32",
   "metadata": {},
   "outputs": [],
   "source": [
    "physical = df[df['nome_modulistica'] == 'SF12 PhysicalScore'].reset_index()\n",
    "physical = physical.rename(columns = {'score_preop':'physical_score_preop', 'score_postop':'physical_score_postop'})\n",
    "mental = df[df['nome_modulistica'] == 'SF12 MentalScore'].reset_index()\n",
    "mental = mental.rename(columns = {'score_preop':'mental_score_preop', 'score_postop':'mental_score_postop'})"
   ]
  },
  {
   "cell_type": "markdown",
   "id": "6624ab8d",
   "metadata": {},
   "source": [
    "Unisco in un unico dataset, generando degli attributi relativi al singolo score:"
   ]
  },
  {
   "cell_type": "code",
   "execution_count": 13,
   "id": "98cbd4b1",
   "metadata": {},
   "outputs": [],
   "source": [
    "df1 = pd.concat([physical, mental[['mental_score_preop', 'mental_score_postop']]], axis = 1)\n",
    "df1.drop('index', axis = 1, inplace = True)\n",
    "df1.drop('nome_modulistica', axis = 1, inplace = True)\n",
    "columns_names = ['physical_score_preop',\n",
    " 'physical_score_postop', \n",
    " 'mental_score_preop',\n",
    " 'mental_score_postop',\n",
    " 'condizioni_meteo',\n",
    " 'sesso',\n",
    " 'anni_ricovero',\n",
    " 'temperatura_media',\n",
    " 'umidita_media',\n",
    " 'HI > 27',\n",
    " 'natural_light']\n",
    "df1 = df1.reindex(columns=columns_names)"
   ]
  },
  {
   "cell_type": "markdown",
   "id": "42abdbfa",
   "metadata": {},
   "source": [
    "Converto le colonne delle variabili categoriche da stringhe a fattori:"
   ]
  },
  {
   "cell_type": "code",
   "execution_count": 14,
   "id": "8a497006",
   "metadata": {},
   "outputs": [],
   "source": [
    "df1['condizioni_meteo'] = df1['condizioni_meteo'].astype(\"category\")\n",
    "df1['sesso'] = df1['sesso'].astype(\"category\")"
   ]
  },
  {
   "cell_type": "markdown",
   "id": "9e1560e2",
   "metadata": {},
   "source": [
    "# Visualizzazione"
   ]
  },
  {
   "cell_type": "markdown",
   "id": "6a45a992",
   "metadata": {},
   "source": [
    "#### Preparazione dei dati"
   ]
  },
  {
   "cell_type": "markdown",
   "id": "81cef4c7",
   "metadata": {},
   "source": [
    "Controllo le `condizioni_meteo` che presentano più di 30 osservazioni:"
   ]
  },
  {
   "cell_type": "code",
   "execution_count": 15,
   "id": "aa4fe457",
   "metadata": {
    "scrolled": true
   },
   "outputs": [
    {
     "data": {
      "text/plain": [
       "condizioni_meteo\n",
       "coperto                               5\n",
       "nebbia                                7\n",
       "nebbia al mattino                   151\n",
       "neve                                  4\n",
       "neve debole                           1\n",
       "neve e schiarite                      4\n",
       "nubi sparse                          35\n",
       "pioggia                               7\n",
       "pioggia debole                       47\n",
       "pioggia e schiarite                 175\n",
       "pioggia mista a neve e schiarite      1\n",
       "poco nuvoloso                       334\n",
       "sereno                              217\n",
       "sole e caldo                         49\n",
       "temporale e schiarite                18\n",
       "dtype: int64"
      ]
     },
     "execution_count": 15,
     "metadata": {},
     "output_type": "execute_result"
    }
   ],
   "source": [
    "df1.groupby('condizioni_meteo').size()"
   ]
  },
  {
   "cell_type": "markdown",
   "id": "b34732b4",
   "metadata": {},
   "source": [
    "Riduciamo il numero di categorie, mantenendo solo quelle con una numerosità superiore a 30:"
   ]
  },
  {
   "cell_type": "code",
   "execution_count": 16,
   "id": "f9da09b9",
   "metadata": {},
   "outputs": [
    {
     "name": "stderr",
     "output_type": "stream",
     "text": [
      "C:\\Users\\Giorgio\\AppData\\Local\\Temp/ipykernel_14216/1025064578.py:4: SettingWithCopyWarning: \n",
      "A value is trying to be set on a copy of a slice from a DataFrame.\n",
      "Try using .loc[row_indexer,col_indexer] = value instead\n",
      "\n",
      "See the caveats in the documentation: https://pandas.pydata.org/pandas-docs/stable/user_guide/indexing.html#returning-a-view-versus-a-copy\n",
      "  df1_significativo[\"condizioni_meteo\"] = df1_significativo[\"condizioni_meteo\"].cat.remove_unused_categories()\n"
     ]
    }
   ],
   "source": [
    "condizioni_meteo_numerosità_sufficiente = ['nebbia al mattino', 'nubi sparse', 'pioggia debole', 'pioggia e schiarite', \\\n",
    "                                          'poco nuvoloso', 'sereno', 'sole e caldo']\n",
    "df1_significativo = df1[df1['condizioni_meteo'].isin(condizioni_meteo_numerosità_sufficiente)]\n",
    "df1_significativo[\"condizioni_meteo\"] = df1_significativo[\"condizioni_meteo\"].cat.remove_unused_categories()"
   ]
  },
  {
   "cell_type": "markdown",
   "id": "e1fe53d5",
   "metadata": {},
   "source": [
    "Calcoliamo i valori utili di umidità rispetto alle categorie considerate:\n",
    "- Lo scopo è quello di ordinare poi le diverse modalità dell'attributo 'condizioni_meteo' in funzione di un valore di umidità relativa media crescente"
   ]
  },
  {
   "cell_type": "code",
   "execution_count": 17,
   "id": "f358d74e",
   "metadata": {
    "scrolled": true
   },
   "outputs": [
    {
     "data": {
      "text/html": [
       "<div>\n",
       "<style scoped>\n",
       "    .dataframe tbody tr th:only-of-type {\n",
       "        vertical-align: middle;\n",
       "    }\n",
       "\n",
       "    .dataframe tbody tr th {\n",
       "        vertical-align: top;\n",
       "    }\n",
       "\n",
       "    .dataframe thead th {\n",
       "        text-align: right;\n",
       "    }\n",
       "</style>\n",
       "<table border=\"1\" class=\"dataframe\">\n",
       "  <thead>\n",
       "    <tr style=\"text-align: right;\">\n",
       "      <th></th>\n",
       "      <th>count</th>\n",
       "      <th>std</th>\n",
       "      <th>mean</th>\n",
       "      <th>mean_conf_interv</th>\n",
       "      <th>mean_conf_inf</th>\n",
       "      <th>mean_conf_sup</th>\n",
       "    </tr>\n",
       "    <tr>\n",
       "      <th>condizioni_meteo</th>\n",
       "      <th></th>\n",
       "      <th></th>\n",
       "      <th></th>\n",
       "      <th></th>\n",
       "      <th></th>\n",
       "      <th></th>\n",
       "    </tr>\n",
       "  </thead>\n",
       "  <tbody>\n",
       "    <tr>\n",
       "      <th>nebbia al mattino</th>\n",
       "      <td>151</td>\n",
       "      <td>11.125946</td>\n",
       "      <td>82.000000</td>\n",
       "      <td>3.549233</td>\n",
       "      <td>80.225383</td>\n",
       "      <td>83.774617</td>\n",
       "    </tr>\n",
       "    <tr>\n",
       "      <th>nubi sparse</th>\n",
       "      <td>35</td>\n",
       "      <td>15.184136</td>\n",
       "      <td>77.828571</td>\n",
       "      <td>10.061023</td>\n",
       "      <td>72.798060</td>\n",
       "      <td>82.859083</td>\n",
       "    </tr>\n",
       "    <tr>\n",
       "      <th>pioggia debole</th>\n",
       "      <td>47</td>\n",
       "      <td>7.821139</td>\n",
       "      <td>93.297872</td>\n",
       "      <td>4.472055</td>\n",
       "      <td>91.061845</td>\n",
       "      <td>95.533900</td>\n",
       "    </tr>\n",
       "    <tr>\n",
       "      <th>pioggia e schiarite</th>\n",
       "      <td>175</td>\n",
       "      <td>9.576500</td>\n",
       "      <td>85.142857</td>\n",
       "      <td>2.837748</td>\n",
       "      <td>83.723983</td>\n",
       "      <td>86.561731</td>\n",
       "    </tr>\n",
       "    <tr>\n",
       "      <th>poco nuvoloso</th>\n",
       "      <td>334</td>\n",
       "      <td>12.276168</td>\n",
       "      <td>66.446108</td>\n",
       "      <td>2.633150</td>\n",
       "      <td>65.129533</td>\n",
       "      <td>67.762683</td>\n",
       "    </tr>\n",
       "    <tr>\n",
       "      <th>sereno</th>\n",
       "      <td>217</td>\n",
       "      <td>13.512337</td>\n",
       "      <td>59.152074</td>\n",
       "      <td>3.595727</td>\n",
       "      <td>57.354210</td>\n",
       "      <td>60.949937</td>\n",
       "    </tr>\n",
       "    <tr>\n",
       "      <th>sole e caldo</th>\n",
       "      <td>49</td>\n",
       "      <td>5.668267</td>\n",
       "      <td>58.469388</td>\n",
       "      <td>3.174230</td>\n",
       "      <td>56.882273</td>\n",
       "      <td>60.056503</td>\n",
       "    </tr>\n",
       "  </tbody>\n",
       "</table>\n",
       "</div>"
      ],
      "text/plain": [
       "                     count        std       mean  mean_conf_interv  \\\n",
       "condizioni_meteo                                                     \n",
       "nebbia al mattino      151  11.125946  82.000000          3.549233   \n",
       "nubi sparse             35  15.184136  77.828571         10.061023   \n",
       "pioggia debole          47   7.821139  93.297872          4.472055   \n",
       "pioggia e schiarite    175   9.576500  85.142857          2.837748   \n",
       "poco nuvoloso          334  12.276168  66.446108          2.633150   \n",
       "sereno                 217  13.512337  59.152074          3.595727   \n",
       "sole e caldo            49   5.668267  58.469388          3.174230   \n",
       "\n",
       "                     mean_conf_inf  mean_conf_sup  \n",
       "condizioni_meteo                                   \n",
       "nebbia al mattino        80.225383      83.774617  \n",
       "nubi sparse              72.798060      82.859083  \n",
       "pioggia debole           91.061845      95.533900  \n",
       "pioggia e schiarite      83.723983      86.561731  \n",
       "poco nuvoloso            65.129533      67.762683  \n",
       "sereno                   57.354210      60.949937  \n",
       "sole e caldo             56.882273      60.056503  "
      ]
     },
     "execution_count": 17,
     "metadata": {},
     "output_type": "execute_result"
    }
   ],
   "source": [
    "umid = df1_significativo.groupby('condizioni_meteo')['umidita_media'].agg(['count', 'std', 'mean'])\n",
    "\n",
    "#INTERVALLO DI CONFIDENZA\n",
    "z = 1.96 #corrisponde a confidenza 95%\n",
    "\n",
    "umid['mean_conf_interv'] = 2 * z * umid['std'] / umid['count']**(1/2)\n",
    "umid['mean_conf_inf'] = umid['mean'] - z * umid['std'] / umid['count']**(1/2)\n",
    "umid['mean_conf_sup'] = umid['mean'] + z * umid['std'] / umid['count']**(1/2)\n",
    "\n",
    "umid"
   ]
  },
  {
   "cell_type": "markdown",
   "id": "6819bfcb",
   "metadata": {},
   "source": [
    "#### Creazione della visualizzazione\n",
    "- L'obiettivo della visualizzazione è quello di mostrare come varia la distribuzione degli score fisici postoperatori in funzione delle condizioni metereologiche che caratterizzano il giorno della compilazione\n",
    "    - Si è scelto di utilizzare dei boxplot e dei violin plot condizionati all'attributo `condizioni_meteo`, in particolare si è scelto di considerare solo le modalità di `condizioni_meteo` che avessero più di 30 osservazioni, al fine di avere dei risultati significativi dal punto di vista della grandezza del campione.\n",
    "    - Il violin plot ha lo scopo principale di mostrare la forma della distribuzione e in particolare di evidenziare la presenza di uno o più valori modali dello score fisico postoperatorio\n",
    "    - Il boxplot ha invece lo scopo descrivere la distribuzione del campione tramite alcuni indici di dispersione e di posizione\n",
    "    - Le distribuzioni condizionate alle diverse modalità sono state ordinate da sinistra verso destra basandosi su un valore di umidità relativa media crescente\n",
    "- Inoltre all'interno di ogni distribuuzione si vuole mostrare come il physical score possa anche dipendere dal valore di umidità relativa media nel giorno di compilazione del questionario\n",
    "    - Si sceglie quindi di usare degli stripplot e di colorare i punti relativi alle singole osservazioni in funzione del valore di umidità relativa media\n",
    "    - Sono state inoltre utilizzate delle annotazioni per descrivere alcuni punti notevoli e di interesse"
   ]
  },
  {
   "cell_type": "code",
   "execution_count": null,
   "id": "dc583b0e",
   "metadata": {
    "scrolled": false
   },
   "outputs": [],
   "source": [
    "sns.set_style('white')\n",
    "\n",
    "#Setting parametri utili\n",
    "my_dpi = 300\n",
    "fig, ax = plt.subplots(figsize= (1700/my_dpi, 1500/my_dpi))\n",
    "fig.patch.set_facecolor('#fbf9f4')\n",
    "ax.set_facecolor('#fbf9f4')\n",
    "color_scale = [\"#7570B3\", \"#7570B3\", \"#7570B3\", \"#7570B3\", \"#7570B3\", \"#7570B3\", \"#7570B3\"]\n",
    "linee_orizzontali = list(range(5, 75, 5))\n",
    "    \n",
    "BOX_PROPS = {\n",
    "    'boxprops':{'facecolor':'none', 'edgecolor':'#747473', 'zorder': 2, 'linewidth': 1.5},\n",
    "    'whiskerprops':{'color':'#747473', 'linewidth':1.5, 'zorder':1},\n",
    "    'medianprops':{'linewidth':'3', 'color':'#747473', 'solid_capstyle':'butt'},\n",
    "    'meanprops':{\"marker\":\"o\",\"markerfacecolor\":\"#850e00\", \"markeredgecolor\":\"#850e00\", 'zorder':3}\n",
    "}\n",
    "\n",
    "#Creazione violin plots\n",
    "sns.violinplot(data=df1_significativo, x='condizioni_meteo', y='physical_score_postop',\n",
    "                    order=['sole e caldo', 'sereno', 'poco nuvoloso', 'nubi sparse', 'nebbia al mattino', 'pioggia e schiarite', \n",
    "                    'pioggia debole'], \\\n",
    "                    linewidth=1, \\\n",
    "                    inner = None, \\\n",
    "                    color = '#fbf9f4', \\\n",
    "                    scale = 'area', \\\n",
    "                    cut = 0, \\\n",
    "                    alpha = 1, \\\n",
    "                    zorder = 0,\\\n",
    "                    ax = ax)\n",
    " \n",
    "#Sovrapposizione box plots\n",
    "sns.boxplot(x = 'condizioni_meteo', y = 'physical_score_postop', data = df1_significativo, \\\n",
    "            order=['sole e caldo', 'sereno', 'poco nuvoloso', 'nubi sparse', 'nebbia al mattino', 'pioggia e schiarite', \n",
    "                    'pioggia debole'], \\\n",
    "            width = 0.3, \\\n",
    "            showcaps = False,\\\n",
    "            ax = ax,\\\n",
    "            #showmeans = True, \\\n",
    "            **BOX_PROPS)\n",
    "\n",
    "#Sovrapposizione strip plots, con colore dei punti dipendente dal valore di umidità media\n",
    "stripplot = sns.stripplot(x = 'condizioni_meteo', y = 'physical_score_postop', hue = 'umidita_media', data = df1_significativo,\n",
    "                      order=['sole e caldo', 'sereno', 'poco nuvoloso', 'nubi sparse', 'nebbia al mattino', 'pioggia e schiarite', \n",
    "                             'pioggia debole'],\n",
    "                      palette = \"viridis_r\", \\\n",
    "                      edgecolor = \"k\", \\\n",
    "                      jitter = 0.16, \\\n",
    "                      alpha = 0.25, \\\n",
    "                      linewidth = 0.4, \\\n",
    "                      s = 4,\n",
    "                      zorder = 1,\n",
    "                      ax = ax)\n",
    "\n",
    "#Non vogliamo la legenda, che viene rimossa\n",
    "plt.legend([],[], frameon=False)\n",
    "\n",
    "#Disegno delle linee in background \n",
    "for h in linee_orizzontali:\n",
    "    if h == 50:\n",
    "        ax.axhline(50, color='k', ls=(0, (5, 5)), alpha=0.5, zorder=6, lw = 1)\n",
    "    else:\n",
    "        ax.axhline(h, color='#7F7F7F', ls=(0, (5, 5)), alpha=0.2, zorder=5, lw = 1)\n",
    "        \n",
    "#Contorno grafico\n",
    "ax.spines[\"right\"].set_color(\"none\")\n",
    "ax.spines[\"top\"].set_color(\"none\")\n",
    "ax.spines[\"left\"].set_color('#b4aea9')\n",
    "ax.spines[\"left\"].set_linewidth(2)\n",
    "ax.spines[\"bottom\"].set_color('#b4aea9')\n",
    "ax.spines[\"bottom\"].set_linewidth(2)\n",
    "\n",
    "#Personalizzazione degli assi (nomi e ticks)\n",
    "ax.tick_params(length=0)\n",
    "ax.set_ylim(0,70)\n",
    "ax.set_yticks(linee_orizzontali)\n",
    "ax.set_yticklabels(linee_orizzontali, size=8)\n",
    "y_label = \"SF-12 Physical Score postoperatorio a 3 mesi\"\n",
    "ax.set_ylabel(y_label, size=10, weight=\"bold\")\n",
    "ax.set_xlabel(\"Condizioni metereologiche\", size=10, weight=\"bold\", labelpad = 5)\n",
    "xlabels = ['sole e caldo', 'sereno', 'poco\\nnuvoloso', 'nubi sparse','nebbia\\nal mattino', 'pioggia\\ne schiarite', 'pioggia debole']\n",
    "ax.set_xticklabels(xlabels, size=8, ha=\"center\", ma=\"center\")\n",
    "\n",
    "#Inserimento del titolo\n",
    "titolo = \"Le condizioni metereologiche e l'umidità relativa influenzano\\nl'indice SF-12 Physical Score postoperatorio a tre mesi da\\nun'operazione chirurgica ?\"\n",
    "fig.suptitle(\n",
    "    titolo,\n",
    "    x = 0.125,\n",
    "    y = 1.16,\n",
    "    ha=\"left\",\n",
    "    fontsize=12,\n",
    "    weight=\"bold\",\n",
    "    wrap = True\n",
    ")\n",
    "\n",
    "#Inserimento del sottotitolo\n",
    "sottotitolo = \"Distribuzioni degli indici SF-12 Physical Score postoperatori in funzione delle condizioni\\nmetereologiche registrate nel giorno di compilazione del questionario da parte del paziente.\\nTra le possibili condizioni metereologiche sono state considerate solo le modalità caratterizzanti\\npiù di 30 osservazioni. Il colore dei punti rappresentanti le singole osservazioni è definito in\\nfunzione del valore di umidità relativa media nel giorno della compilazione.\"\n",
    "ax.set_title(sottotitolo, loc='left', pad=20, fontsize=8)\n",
    "\n",
    "\n",
    "#Aggiunta e personalizzazione della colorbar\n",
    "cbar_ax = fig.add_axes([0.92, 0.25, 0.020, 0.28])\n",
    "norm = plt.Normalize(20, 100)\n",
    "\n",
    "cb = fig.colorbar(\n",
    "    plt.cm.ScalarMappable(norm=norm, cmap=\"viridis_r\"), \n",
    "    cax=cbar_ax,\n",
    "    orientation = \"vertical\",\n",
    "    ticks = [20,30,40,50,60,70,80,90,100],\n",
    "    alpha = 0.25\n",
    ")\n",
    "cb.ax.tick_params(labelsize=8)\n",
    "cb.set_label(\"Umidità relativa (${RH}$)\", size=8, weight=\"bold\")\n",
    "\n",
    "pad = 0.2\n",
    "\n",
    "#Inserimento del context\n",
    "label1 = \"I SF-12 Physical Score minimi si registrano\\nin giorni piovosi e caratterizzati da alti\\nvalori di umidità relativa media.\"\n",
    "\n",
    "ax.text(1.3, 9 - pad, label1, fontsize=7, va=\"bottom\", ha=\"left\") \n",
    "ax.annotate('', xy=(5, 16), xytext=(4, 11 - pad), \n",
    "            arrowprops=dict(arrowstyle=\"-[, widthB=0.8\", \n",
    "                            connectionstyle=\"angle3,angleA=0,angleB=-90\",\n",
    "                            color = 'k'))\n",
    "ax.annotate('', xy=(5.95, 15), xytext=(4.1, 11 - pad), \n",
    "            arrowprops=dict(arrowstyle=\"-[, widthB=0.8\", \n",
    "                            connectionstyle=\"angle3,angleA=0,angleB=-90\",\n",
    "                            color = 'k'))\n",
    "\n",
    "label2 = \"I SF-12 Physical Score massimi si registrano\\nin giorni caratterizzati da condizioni di tempo\\n'sereno' e 'poco nuvoloso' e da bassi valori di\\numidità relativa media.\"\n",
    "\n",
    "ax.text(3.1, 65 - pad, label2, fontsize=7, va=\"bottom\", ha=\"left\") \n",
    "ax.annotate('', xy=(1.1, 66), xytext=(3, 71 - pad), \n",
    "            arrowprops=dict(arrowstyle=\"-[, widthB=0.8\", \n",
    "                            connectionstyle=\"angle3,angleA=0,angleB=-90\",\n",
    "                            color = 'k'))\n",
    "ax.annotate('', xy=(2, 64), xytext=(3, 71 - pad), \n",
    "            arrowprops=dict(arrowstyle=\"-[, widthB=0.8\", \n",
    "                            connectionstyle=\"angle3,angleA=0,angleB=-90\",\n",
    "                            color = 'k'))\n",
    "# Asse 50 e citazione\n",
    "label3 = (\"Un PCS-12 score\\ndi 50 è il valore al\\ndi sotto del quale\\nla condizione fisica\\ndel paziente è\\nconsiderata non\\nottimale. [1]\")\n",
    "label4 = \"[1] Ware J, Kosinski M, Keller S. SF-12: How to score the SF-12 Physical and Mental Summary Scales. 2nd ed. Boston,\\nThe Health Institute, New England Medical Center; 1995\"\n",
    "\n",
    "ax.text(6.55, 50, label3, fontsize=7, va=\"center\", ha=\"left\")\n",
    "ax.text(-0.5, -11, label4, fontsize=6, va=\"center\", ha=\"left\")\n",
    "\n",
    "# SALVATAGGIO\n",
    "\n",
    "fig.savefig(\"compitino_primaviz\", dpi=300, bbox_inches='tight')"
   ]
  },
  {
   "cell_type": "code",
   "execution_count": null,
   "id": "c7c6b199",
   "metadata": {},
   "outputs": [],
   "source": []
  }
 ],
 "metadata": {
  "kernelspec": {
   "display_name": "Python 3 (ipykernel)",
   "language": "python",
   "name": "python3"
  },
  "language_info": {
   "codemirror_mode": {
    "name": "ipython",
    "version": 3
   },
   "file_extension": ".py",
   "mimetype": "text/x-python",
   "name": "python",
   "nbconvert_exporter": "python",
   "pygments_lexer": "ipython3",
   "version": "3.8.8"
  }
 },
 "nbformat": 4,
 "nbformat_minor": 5
}
