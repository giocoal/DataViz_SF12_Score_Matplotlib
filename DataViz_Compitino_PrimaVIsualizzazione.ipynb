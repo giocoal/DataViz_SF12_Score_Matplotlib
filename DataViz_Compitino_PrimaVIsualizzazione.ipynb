{
 "cells": [
  {
   "cell_type": "markdown",
   "id": "3b036e13",
   "metadata": {},
   "source": [
    "# Importazione Librerie"
   ]
  },
  {
   "cell_type": "code",
   "execution_count": 3,
   "id": "ce9827f2",
   "metadata": {},
   "outputs": [],
   "source": [
    "import pandas as pd\n",
    "import matplotlib as plm\n",
    "import matplotlib.pyplot as plt\n",
    "from matplotlib import cm\n",
    "from matplotlib import colors as mcolors\n",
    "import seaborn as sns\n",
    "import numpy as np\n",
    "from numpy import median\n",
    "from seaborn import JointGrid"
   ]
  },
  {
   "cell_type": "markdown",
   "id": "be6bc5c6",
   "metadata": {},
   "source": [
    "# Cleaning e manipolazione dataset"
   ]
  },
  {
   "cell_type": "markdown",
   "id": "0a39d062",
   "metadata": {},
   "source": [
    "Leggo il dataset"
   ]
  },
  {
   "cell_type": "code",
   "execution_count": 4,
   "id": "e1187c64",
   "metadata": {},
   "outputs": [],
   "source": [
    "df = pd.read_csv('compitino_dataviz_2021_2022.csv')"
   ]
  },
  {
   "cell_type": "markdown",
   "id": "c07ba515",
   "metadata": {},
   "source": [
    "Divido righe MentalScore e PhisicalScore"
   ]
  },
  {
   "cell_type": "code",
   "execution_count": 5,
   "id": "d389ac29",
   "metadata": {},
   "outputs": [],
   "source": [
    "physical = df[df['nome_modulistica'] == 'SF12 PhysicalScore'].reset_index()\n",
    "physical = physical.rename(columns = {'score_preop':'physical_score_preop', 'score_postop':'physical_score_postop'})\n",
    "mental = df[df['nome_modulistica'] == 'SF12 MentalScore'].reset_index()\n",
    "mental = mental.rename(columns = {'score_preop':'mental_score_preop', 'score_postop':'mental_score_postop'})"
   ]
  },
  {
   "cell_type": "markdown",
   "id": "302c850f",
   "metadata": {},
   "source": [
    "Unisco in un'unico dataset, generando degli attributi relativi al singolo score"
   ]
  },
  {
   "cell_type": "code",
   "execution_count": 6,
   "id": "fa8930bc",
   "metadata": {},
   "outputs": [],
   "source": [
    "df1 = pd.concat([physical, mental[['mental_score_preop', 'mental_score_postop']]], axis = 1)\n",
    "df1.drop('index', axis = 1, inplace = True)\n",
    "df1.drop('nome_modulistica', axis = 1, inplace = True)\n",
    "columns_names = ['physical_score_preop',\n",
    " 'physical_score_postop', \n",
    " 'mental_score_preop',\n",
    " 'mental_score_postop',\n",
    " 'condizioni_meteo',\n",
    " 'sesso',\n",
    " 'anni_ricovero',\n",
    " 'temperatura_media',\n",
    " 'umidita_media',\n",
    " 'HI > 27',\n",
    " 'natural_light']\n",
    "df1 = df1.reindex(columns=columns_names)"
   ]
  },
  {
   "cell_type": "markdown",
   "id": "201d19e7",
   "metadata": {},
   "source": [
    "Genero due nuove colonne contenti le differenze tra gli score post e pre operazione"
   ]
  },
  {
   "cell_type": "code",
   "execution_count": 7,
   "id": "f9580744",
   "metadata": {},
   "outputs": [],
   "source": [
    "physical_score_diff = df1['physical_score_postop'] - df1['physical_score_preop']\n",
    "mental_score_diff = df1['mental_score_postop'] - df1['mental_score_preop']\n",
    "df1.insert(2,\"physical_score_diff\", physical_score_diff)\n",
    "df1.insert(5,\"mental_score_diff\", mental_score_diff)"
   ]
  },
  {
   "cell_type": "markdown",
   "id": "63308013",
   "metadata": {},
   "source": [
    "Converto le colonne delle variabili categoriche da stringhe a fattori"
   ]
  },
  {
   "cell_type": "code",
   "execution_count": 8,
   "id": "706e45c9",
   "metadata": {},
   "outputs": [],
   "source": [
    "df1['condizioni_meteo'] = df1['condizioni_meteo'].astype(\"category\")\n",
    "df1['sesso'] = df1['sesso'].astype(\"category\")"
   ]
  },
  {
   "cell_type": "markdown",
   "id": "cc6d577b",
   "metadata": {},
   "source": [
    "Aggiunta differenze physical-mental"
   ]
  },
  {
   "cell_type": "code",
   "execution_count": 9,
   "id": "75761531",
   "metadata": {},
   "outputs": [],
   "source": [
    "physical_mental_diff_postop = df1['physical_score_postop'] - df1['mental_score_postop']\n",
    "physical_mental_diff_preop = df1['physical_score_preop'] - df1['mental_score_preop']\n",
    "df1.insert(6,\"physical_mental_diff_postop\", physical_mental_diff_postop)\n",
    "df1.insert(7,\"physical_mental_diff_preop\", physical_mental_diff_preop)\n",
    "mental_physical_diff_postop = df1['mental_score_postop'] - df1['physical_score_postop'] \n",
    "mental_physical_diff_preop = df1['mental_score_preop'] - df1['physical_score_preop']\n",
    "df1.insert(8,\"mental_physical_diff_postop\", mental_physical_diff_postop)\n",
    "df1.insert(9,\"mental_physical_diff_preop\", mental_physical_diff_preop)"
   ]
  },
  {
   "cell_type": "markdown",
   "id": "f4718c05",
   "metadata": {},
   "source": [
    "#### Splitting del dataset"
   ]
  },
  {
   "cell_type": "code",
   "execution_count": 10,
   "id": "5e2dc84e",
   "metadata": {},
   "outputs": [],
   "source": [
    "mental_score_dataset = df[df['nome_modulistica'] == 'SF12 MentalScore']\n",
    "physical_score_dataset = df[df['nome_modulistica'] == 'SF12 PhysicalScore']"
   ]
  },
  {
   "cell_type": "markdown",
   "id": "92ee0986",
   "metadata": {},
   "source": [
    "Drop colonna nome_modulistica"
   ]
  },
  {
   "cell_type": "code",
   "execution_count": 11,
   "id": "ee5bfe7a",
   "metadata": {},
   "outputs": [
    {
     "name": "stderr",
     "output_type": "stream",
     "text": [
      "C:\\Users\\Giorgio\\anaconda3\\lib\\site-packages\\pandas\\core\\frame.py:4308: SettingWithCopyWarning: \n",
      "A value is trying to be set on a copy of a slice from a DataFrame\n",
      "\n",
      "See the caveats in the documentation: https://pandas.pydata.org/pandas-docs/stable/user_guide/indexing.html#returning-a-view-versus-a-copy\n",
      "  return super().drop(\n"
     ]
    }
   ],
   "source": [
    "mental_score_dataset.drop('nome_modulistica', axis = 1, inplace = True)\n",
    "physical_score_dataset.drop('nome_modulistica',  axis = 1, inplace = True)"
   ]
  },
  {
   "cell_type": "markdown",
   "id": "a87e01e5",
   "metadata": {},
   "source": [
    "Aggiungo la colonna delle differenze"
   ]
  },
  {
   "cell_type": "code",
   "execution_count": 12,
   "id": "e9c3c84f",
   "metadata": {},
   "outputs": [],
   "source": [
    "physical_score_dataset.insert(2,\"score_diff\", (physical_score_dataset['score_postop'] - physical_score_dataset['score_preop']).round(3))\n",
    "mental_score_dataset.insert(2,\"score_diff\", (mental_score_dataset['score_postop'] - mental_score_dataset['score_preop']).round(3))"
   ]
  },
  {
   "cell_type": "markdown",
   "id": "18b29750",
   "metadata": {},
   "source": [
    "# Visualizzazioni"
   ]
  },
  {
   "cell_type": "markdown",
   "id": "03d41b07",
   "metadata": {},
   "source": [
    "Controllo le `condizioni_meteo` che predentano più di 30 osservazioni"
   ]
  },
  {
   "cell_type": "code",
   "execution_count": 13,
   "id": "b4baeeca",
   "metadata": {
    "scrolled": true
   },
   "outputs": [
    {
     "data": {
      "text/plain": [
       "condizioni_meteo\n",
       "coperto                               5\n",
       "nebbia                                7\n",
       "nebbia al mattino                   151\n",
       "neve                                  4\n",
       "neve debole                           1\n",
       "neve e schiarite                      4\n",
       "nubi sparse                          35\n",
       "pioggia                               7\n",
       "pioggia debole                       47\n",
       "pioggia e schiarite                 175\n",
       "pioggia mista a neve e schiarite      1\n",
       "poco nuvoloso                       334\n",
       "sereno                              217\n",
       "sole e caldo                         49\n",
       "temporale e schiarite                18\n",
       "dtype: int64"
      ]
     },
     "execution_count": 13,
     "metadata": {},
     "output_type": "execute_result"
    }
   ],
   "source": [
    "df1.groupby('condizioni_meteo').size()"
   ]
  },
  {
   "cell_type": "markdown",
   "id": "37af7af5",
   "metadata": {},
   "source": [
    "Provo a ridurre il numero di categorie tenendo solo quelle con numerosià maggiore di 30"
   ]
  },
  {
   "cell_type": "code",
   "execution_count": 16,
   "id": "db51bb67",
   "metadata": {},
   "outputs": [
    {
     "name": "stderr",
     "output_type": "stream",
     "text": [
      "<ipython-input-16-ed8356b34974>:4: SettingWithCopyWarning: \n",
      "A value is trying to be set on a copy of a slice from a DataFrame.\n",
      "Try using .loc[row_indexer,col_indexer] = value instead\n",
      "\n",
      "See the caveats in the documentation: https://pandas.pydata.org/pandas-docs/stable/user_guide/indexing.html#returning-a-view-versus-a-copy\n",
      "  df1_significativo[\"condizioni_meteo\"] = df1_significativo[\"condizioni_meteo\"].cat.remove_unused_categories()\n"
     ]
    }
   ],
   "source": [
    "condizioni_meteo_numerosità_sufficiente = ['nebbia al mattino', 'nubi sparse', 'pioggia debole', 'pioggia e schiarite', \\\n",
    "                                          'poco nuvoloso', 'sereno', 'sole e caldo']\n",
    "df1_significativo = df1[df1['condizioni_meteo'].isin(condizioni_meteo_numerosità_sufficiente)]\n",
    "df1_significativo[\"condizioni_meteo\"] = df1_significativo[\"condizioni_meteo\"].cat.remove_unused_categories()"
   ]
  },
  {
   "cell_type": "code",
   "execution_count": null,
   "id": "93d2b5e6",
   "metadata": {},
   "outputs": [
    {
     "name": "stderr",
     "output_type": "stream",
     "text": [
      "<ipython-input-17-5fb4ef0ee06a>:31: SettingWithCopyWarning: \n",
      "A value is trying to be set on a copy of a slice from a DataFrame.\n",
      "Try using .loc[row_indexer,col_indexer] = value instead\n",
      "\n",
      "See the caveats in the documentation: https://pandas.pydata.org/pandas-docs/stable/user_guide/indexing.html#returning-a-view-versus-a-copy\n",
      "  df1_significativo['bin'] = pd.cut(abs(df1_significativo['physical_score_postop']),bin,precision=0)\n"
     ]
    }
   ],
   "source": [
    "sns.set_style('white')\n",
    "fig, ax = plt.subplots(figsize= (14, 10))\n",
    "fig.patch.set_facecolor('#fbf9f4')\n",
    "ax.set_facecolor('#fbf9f4')\n",
    "#color_scale = [\"#1B9E77\", \"#D95F02\", \"#7570B3\", \"#E7298A\", \"#66A61E\", \"#E6AB02\", \"#A6761D\"]\n",
    "color_scale = [\"#7570B3\", \"#7570B3\", \"#7570B3\", \"#7570B3\", \"#7570B3\", \"#7570B3\", \"#7570B3\"]\n",
    "#linee_orizzontali = [20, 25, 30, 35, 40, 45, 50, 55, 60, 65, 70]\n",
    "linee_orizzontali = list(range(5, 75, 5))\n",
    "    \n",
    "BOX_PROPS = {\n",
    "    'boxprops':{'facecolor':'none', 'edgecolor':'#747473', 'zorder': 2, 'linewidth': 2},\n",
    "    'whiskerprops':{'color':'#747473', 'linewidth':2},\n",
    "    'medianprops':{'linewidth':'4', 'color':'#747473', 'solid_capstyle':'butt'},\n",
    "    'meanprops':{\"marker\":\"o\",\"markerfacecolor\":\"#850e00\", \"markeredgecolor\":\"#850e00\", 'zorder':3}\n",
    "}\n",
    "\n",
    "sns.violinplot(data=df1_significativo, x='condizioni_meteo', y='physical_score_postop',\n",
    "                    order=['sole e caldo', 'sereno', 'poco nuvoloso', 'nubi sparse', 'pioggia e schiarite', 'pioggia debole',\n",
    "                 'nebbia al mattino'], \\\n",
    "                    linewidth=1.4, \\\n",
    "                    inner = None, \\\n",
    "                    color = '#fbf9f4', \\\n",
    "                    scale = 'area', \\\n",
    "                    cut = 0, \\\n",
    "                    alpha = 1, \\\n",
    "                    zorder = 0,\\\n",
    "                    ax = ax)\n",
    "\n",
    "# Color_Palette\n",
    "bin = np.arange(15,85,1)\n",
    "df1_significativo['bin'] = pd.cut(abs(df1_significativo['physical_score_postop']),bin,precision=0)\n",
    "\n",
    " \n",
    "sns.boxplot(x = 'condizioni_meteo', y = 'physical_score_postop', data = df1_significativo, \\\n",
    "            order=['sole e caldo', 'sereno', 'poco nuvoloso', 'nubi sparse', 'pioggia e schiarite', 'pioggia debole',\n",
    "                 'nebbia al mattino'], \\\n",
    "            width = 0.3, \\\n",
    "            showcaps = False,\\\n",
    "            ax = ax,\\\n",
    "            #showmeans = True, \\\n",
    "            **BOX_PROPS)\n",
    "\n",
    "\n",
    "sns.stripplot(x = 'condizioni_meteo', y = 'physical_score_postop', data = df1_significativo,\n",
    "                      order=['sole e caldo', 'sereno', 'poco nuvoloso', 'nubi sparse', 'pioggia e schiarite', 'pioggia debole',\n",
    "                      'nebbia al mattino'], \n",
    "                      hue = 'bin',\n",
    "                      # Paletta divergente reversed\n",
    "                      palette = \"coolwarm_r\", \\\n",
    "                      jitter = 0.15, \\\n",
    "                      alpha = 0.45, \\\n",
    "                      linewidth = 0.1, \\\n",
    "                      s = 8,\n",
    "                      zorder = 1,\n",
    "                      ax = ax)\n",
    "\n",
    "plt.legend([],[], frameon=False)\n",
    "\n",
    "# Linee in background \n",
    "for h in linee_orizzontali:\n",
    "    if h == 50:\n",
    "        ax.axhline(50, color='k', ls=(0, (5, 5)), alpha=0.4, zorder=6)\n",
    "    else:\n",
    "        ax.axhline(h, color='#7F7F7F', ls=(0, (5, 5)), alpha=0.2, zorder=5)\n",
    "        \n",
    "\n",
    "# Contorno grafico\n",
    "ax.spines[\"right\"].set_color(\"none\")\n",
    "ax.spines[\"top\"].set_color(\"none\")\n",
    "ax.spines[\"left\"].set_color('#b4aea9')\n",
    "ax.spines[\"left\"].set_linewidth(2)\n",
    "ax.spines[\"bottom\"].set_color('#b4aea9')\n",
    "ax.spines[\"bottom\"].set_linewidth(2)\n",
    "\n",
    "# Customize labels and ticks\n",
    "ax.tick_params(length=0)\n",
    "ax.set_ylim(0,70)\n",
    "ax.set_yticks(linee_orizzontali)\n",
    "ax.set_yticklabels(linee_orizzontali, size=15)\n",
    "y_label_ita = \"SF-12 Physical Score postoperatorio a 3 mesi\"\n",
    "Y_label_eng = \"SF12 Physical postoperative PROM score 3 months\"\n",
    "ax.set_ylabel(\"SF12 Physical postoperative PROM score 3 months\", size=15, weight=\"bold\")\n",
    "ax.set_xlabel(\"Condizioni metereologiche\", size=15, weight=\"bold\", labelpad = 10)\n",
    "#x_labels (labelpad: spacing dall'asse)\n",
    "xlabels = ['sole e caldo', 'sereno', 'poco nuvoloso', 'nubi sparse', 'pioggia\\ne schiarite', 'pioggia debole','nebbia\\nal mattino']\n",
    "ax.set_xticklabels(xlabels, size=15, ha=\"center\", ma=\"center\")\n",
    "\n",
    "\n",
    "\n",
    "# Titolo\n",
    "titolo_italiano = \"Le condizioni metereologiche influenzano l'indice SF-12 Physical Score\\npostoperatorio a tre mesi da un'operazione chirurgica ?\"\n",
    "titolo_inglese = \"Do weather conditions affect post-operatory physical PROM scores?\"\n",
    "fig.suptitle(\n",
    "    titolo_italiano,\n",
    "    x = 0.122,\n",
    "    y = 0.96,\n",
    "    ha=\"left\",\n",
    "    fontsize=22,\n",
    "    weight=\"bold\",\n",
    "    wrap = True\n",
    ")\n",
    "\n",
    "\n",
    "\n",
    "# SALVATAGGIO\n",
    "#fig.tight_layout()"
   ]
  }
 ],
 "metadata": {
  "kernelspec": {
   "display_name": "Python 3",
   "language": "python",
   "name": "python3"
  },
  "language_info": {
   "codemirror_mode": {
    "name": "ipython",
    "version": 3
   },
   "file_extension": ".py",
   "mimetype": "text/x-python",
   "name": "python",
   "nbconvert_exporter": "python",
   "pygments_lexer": "ipython3",
   "version": "3.8.8"
  }
 },
 "nbformat": 4,
 "nbformat_minor": 5
}
