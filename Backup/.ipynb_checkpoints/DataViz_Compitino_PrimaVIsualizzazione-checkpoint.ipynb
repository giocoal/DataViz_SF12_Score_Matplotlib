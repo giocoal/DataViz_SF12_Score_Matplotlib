{
 "cells": [
  {
   "cell_type": "markdown",
   "id": "721181de",
   "metadata": {},
   "source": [
    "# Importazione Librerie"
   ]
  },
  {
   "cell_type": "code",
   "execution_count": 1,
   "id": "09ad7e2f",
   "metadata": {},
   "outputs": [],
   "source": [
    "import pandas as pd\n",
    "import matplotlib as plm\n",
    "import matplotlib.pyplot as plt\n",
    "from matplotlib import cm\n",
    "from matplotlib import colors as mcolors\n",
    "import seaborn as sns\n",
    "import numpy as np\n",
    "from numpy import median\n",
    "from seaborn import JointGrid"
   ]
  },
  {
   "cell_type": "markdown",
   "id": "a6b6c182",
   "metadata": {},
   "source": [
    "# Cleaning e manipolazione dataset"
   ]
  },
  {
   "cell_type": "markdown",
   "id": "05099fa0",
   "metadata": {},
   "source": [
    "Leggo il dataset"
   ]
  },
  {
   "cell_type": "code",
   "execution_count": 2,
   "id": "b7390e6f",
   "metadata": {},
   "outputs": [
    {
     "ename": "FileNotFoundError",
     "evalue": "[Errno 2] No such file or directory: 'compitino_dataviz_2021_2022.csv'",
     "output_type": "error",
     "traceback": [
      "\u001b[1;31m---------------------------------------------------------------------------\u001b[0m",
      "\u001b[1;31mFileNotFoundError\u001b[0m                         Traceback (most recent call last)",
      "\u001b[1;32m~\\AppData\\Local\\Temp/ipykernel_11092/2254351030.py\u001b[0m in \u001b[0;36m<module>\u001b[1;34m\u001b[0m\n\u001b[1;32m----> 1\u001b[1;33m \u001b[0mdf\u001b[0m \u001b[1;33m=\u001b[0m \u001b[0mpd\u001b[0m\u001b[1;33m.\u001b[0m\u001b[0mread_csv\u001b[0m\u001b[1;33m(\u001b[0m\u001b[1;34m'compitino_dataviz_2021_2022.csv'\u001b[0m\u001b[1;33m)\u001b[0m\u001b[1;33m\u001b[0m\u001b[1;33m\u001b[0m\u001b[0m\n\u001b[0m",
      "\u001b[1;32m~\\Anaconda3\\lib\\site-packages\\pandas\\util\\_decorators.py\u001b[0m in \u001b[0;36mwrapper\u001b[1;34m(*args, **kwargs)\u001b[0m\n\u001b[0;32m    309\u001b[0m                     \u001b[0mstacklevel\u001b[0m\u001b[1;33m=\u001b[0m\u001b[0mstacklevel\u001b[0m\u001b[1;33m,\u001b[0m\u001b[1;33m\u001b[0m\u001b[1;33m\u001b[0m\u001b[0m\n\u001b[0;32m    310\u001b[0m                 )\n\u001b[1;32m--> 311\u001b[1;33m             \u001b[1;32mreturn\u001b[0m \u001b[0mfunc\u001b[0m\u001b[1;33m(\u001b[0m\u001b[1;33m*\u001b[0m\u001b[0margs\u001b[0m\u001b[1;33m,\u001b[0m \u001b[1;33m**\u001b[0m\u001b[0mkwargs\u001b[0m\u001b[1;33m)\u001b[0m\u001b[1;33m\u001b[0m\u001b[1;33m\u001b[0m\u001b[0m\n\u001b[0m\u001b[0;32m    312\u001b[0m \u001b[1;33m\u001b[0m\u001b[0m\n\u001b[0;32m    313\u001b[0m         \u001b[1;32mreturn\u001b[0m \u001b[0mwrapper\u001b[0m\u001b[1;33m\u001b[0m\u001b[1;33m\u001b[0m\u001b[0m\n",
      "\u001b[1;32m~\\Anaconda3\\lib\\site-packages\\pandas\\io\\parsers\\readers.py\u001b[0m in \u001b[0;36mread_csv\u001b[1;34m(filepath_or_buffer, sep, delimiter, header, names, index_col, usecols, squeeze, prefix, mangle_dupe_cols, dtype, engine, converters, true_values, false_values, skipinitialspace, skiprows, skipfooter, nrows, na_values, keep_default_na, na_filter, verbose, skip_blank_lines, parse_dates, infer_datetime_format, keep_date_col, date_parser, dayfirst, cache_dates, iterator, chunksize, compression, thousands, decimal, lineterminator, quotechar, quoting, doublequote, escapechar, comment, encoding, encoding_errors, dialect, error_bad_lines, warn_bad_lines, on_bad_lines, delim_whitespace, low_memory, memory_map, float_precision, storage_options)\u001b[0m\n\u001b[0;32m    584\u001b[0m     \u001b[0mkwds\u001b[0m\u001b[1;33m.\u001b[0m\u001b[0mupdate\u001b[0m\u001b[1;33m(\u001b[0m\u001b[0mkwds_defaults\u001b[0m\u001b[1;33m)\u001b[0m\u001b[1;33m\u001b[0m\u001b[1;33m\u001b[0m\u001b[0m\n\u001b[0;32m    585\u001b[0m \u001b[1;33m\u001b[0m\u001b[0m\n\u001b[1;32m--> 586\u001b[1;33m     \u001b[1;32mreturn\u001b[0m \u001b[0m_read\u001b[0m\u001b[1;33m(\u001b[0m\u001b[0mfilepath_or_buffer\u001b[0m\u001b[1;33m,\u001b[0m \u001b[0mkwds\u001b[0m\u001b[1;33m)\u001b[0m\u001b[1;33m\u001b[0m\u001b[1;33m\u001b[0m\u001b[0m\n\u001b[0m\u001b[0;32m    587\u001b[0m \u001b[1;33m\u001b[0m\u001b[0m\n\u001b[0;32m    588\u001b[0m \u001b[1;33m\u001b[0m\u001b[0m\n",
      "\u001b[1;32m~\\Anaconda3\\lib\\site-packages\\pandas\\io\\parsers\\readers.py\u001b[0m in \u001b[0;36m_read\u001b[1;34m(filepath_or_buffer, kwds)\u001b[0m\n\u001b[0;32m    480\u001b[0m \u001b[1;33m\u001b[0m\u001b[0m\n\u001b[0;32m    481\u001b[0m     \u001b[1;31m# Create the parser.\u001b[0m\u001b[1;33m\u001b[0m\u001b[1;33m\u001b[0m\u001b[1;33m\u001b[0m\u001b[0m\n\u001b[1;32m--> 482\u001b[1;33m     \u001b[0mparser\u001b[0m \u001b[1;33m=\u001b[0m \u001b[0mTextFileReader\u001b[0m\u001b[1;33m(\u001b[0m\u001b[0mfilepath_or_buffer\u001b[0m\u001b[1;33m,\u001b[0m \u001b[1;33m**\u001b[0m\u001b[0mkwds\u001b[0m\u001b[1;33m)\u001b[0m\u001b[1;33m\u001b[0m\u001b[1;33m\u001b[0m\u001b[0m\n\u001b[0m\u001b[0;32m    483\u001b[0m \u001b[1;33m\u001b[0m\u001b[0m\n\u001b[0;32m    484\u001b[0m     \u001b[1;32mif\u001b[0m \u001b[0mchunksize\u001b[0m \u001b[1;32mor\u001b[0m \u001b[0miterator\u001b[0m\u001b[1;33m:\u001b[0m\u001b[1;33m\u001b[0m\u001b[1;33m\u001b[0m\u001b[0m\n",
      "\u001b[1;32m~\\Anaconda3\\lib\\site-packages\\pandas\\io\\parsers\\readers.py\u001b[0m in \u001b[0;36m__init__\u001b[1;34m(self, f, engine, **kwds)\u001b[0m\n\u001b[0;32m    809\u001b[0m             \u001b[0mself\u001b[0m\u001b[1;33m.\u001b[0m\u001b[0moptions\u001b[0m\u001b[1;33m[\u001b[0m\u001b[1;34m\"has_index_names\"\u001b[0m\u001b[1;33m]\u001b[0m \u001b[1;33m=\u001b[0m \u001b[0mkwds\u001b[0m\u001b[1;33m[\u001b[0m\u001b[1;34m\"has_index_names\"\u001b[0m\u001b[1;33m]\u001b[0m\u001b[1;33m\u001b[0m\u001b[1;33m\u001b[0m\u001b[0m\n\u001b[0;32m    810\u001b[0m \u001b[1;33m\u001b[0m\u001b[0m\n\u001b[1;32m--> 811\u001b[1;33m         \u001b[0mself\u001b[0m\u001b[1;33m.\u001b[0m\u001b[0m_engine\u001b[0m \u001b[1;33m=\u001b[0m \u001b[0mself\u001b[0m\u001b[1;33m.\u001b[0m\u001b[0m_make_engine\u001b[0m\u001b[1;33m(\u001b[0m\u001b[0mself\u001b[0m\u001b[1;33m.\u001b[0m\u001b[0mengine\u001b[0m\u001b[1;33m)\u001b[0m\u001b[1;33m\u001b[0m\u001b[1;33m\u001b[0m\u001b[0m\n\u001b[0m\u001b[0;32m    812\u001b[0m \u001b[1;33m\u001b[0m\u001b[0m\n\u001b[0;32m    813\u001b[0m     \u001b[1;32mdef\u001b[0m \u001b[0mclose\u001b[0m\u001b[1;33m(\u001b[0m\u001b[0mself\u001b[0m\u001b[1;33m)\u001b[0m\u001b[1;33m:\u001b[0m\u001b[1;33m\u001b[0m\u001b[1;33m\u001b[0m\u001b[0m\n",
      "\u001b[1;32m~\\Anaconda3\\lib\\site-packages\\pandas\\io\\parsers\\readers.py\u001b[0m in \u001b[0;36m_make_engine\u001b[1;34m(self, engine)\u001b[0m\n\u001b[0;32m   1038\u001b[0m             )\n\u001b[0;32m   1039\u001b[0m         \u001b[1;31m# error: Too many arguments for \"ParserBase\"\u001b[0m\u001b[1;33m\u001b[0m\u001b[1;33m\u001b[0m\u001b[1;33m\u001b[0m\u001b[0m\n\u001b[1;32m-> 1040\u001b[1;33m         \u001b[1;32mreturn\u001b[0m \u001b[0mmapping\u001b[0m\u001b[1;33m[\u001b[0m\u001b[0mengine\u001b[0m\u001b[1;33m]\u001b[0m\u001b[1;33m(\u001b[0m\u001b[0mself\u001b[0m\u001b[1;33m.\u001b[0m\u001b[0mf\u001b[0m\u001b[1;33m,\u001b[0m \u001b[1;33m**\u001b[0m\u001b[0mself\u001b[0m\u001b[1;33m.\u001b[0m\u001b[0moptions\u001b[0m\u001b[1;33m)\u001b[0m  \u001b[1;31m# type: ignore[call-arg]\u001b[0m\u001b[1;33m\u001b[0m\u001b[1;33m\u001b[0m\u001b[0m\n\u001b[0m\u001b[0;32m   1041\u001b[0m \u001b[1;33m\u001b[0m\u001b[0m\n\u001b[0;32m   1042\u001b[0m     \u001b[1;32mdef\u001b[0m \u001b[0m_failover_to_python\u001b[0m\u001b[1;33m(\u001b[0m\u001b[0mself\u001b[0m\u001b[1;33m)\u001b[0m\u001b[1;33m:\u001b[0m\u001b[1;33m\u001b[0m\u001b[1;33m\u001b[0m\u001b[0m\n",
      "\u001b[1;32m~\\Anaconda3\\lib\\site-packages\\pandas\\io\\parsers\\c_parser_wrapper.py\u001b[0m in \u001b[0;36m__init__\u001b[1;34m(self, src, **kwds)\u001b[0m\n\u001b[0;32m     49\u001b[0m \u001b[1;33m\u001b[0m\u001b[0m\n\u001b[0;32m     50\u001b[0m         \u001b[1;31m# open handles\u001b[0m\u001b[1;33m\u001b[0m\u001b[1;33m\u001b[0m\u001b[1;33m\u001b[0m\u001b[0m\n\u001b[1;32m---> 51\u001b[1;33m         \u001b[0mself\u001b[0m\u001b[1;33m.\u001b[0m\u001b[0m_open_handles\u001b[0m\u001b[1;33m(\u001b[0m\u001b[0msrc\u001b[0m\u001b[1;33m,\u001b[0m \u001b[0mkwds\u001b[0m\u001b[1;33m)\u001b[0m\u001b[1;33m\u001b[0m\u001b[1;33m\u001b[0m\u001b[0m\n\u001b[0m\u001b[0;32m     52\u001b[0m         \u001b[1;32massert\u001b[0m \u001b[0mself\u001b[0m\u001b[1;33m.\u001b[0m\u001b[0mhandles\u001b[0m \u001b[1;32mis\u001b[0m \u001b[1;32mnot\u001b[0m \u001b[1;32mNone\u001b[0m\u001b[1;33m\u001b[0m\u001b[1;33m\u001b[0m\u001b[0m\n\u001b[0;32m     53\u001b[0m \u001b[1;33m\u001b[0m\u001b[0m\n",
      "\u001b[1;32m~\\Anaconda3\\lib\\site-packages\\pandas\\io\\parsers\\base_parser.py\u001b[0m in \u001b[0;36m_open_handles\u001b[1;34m(self, src, kwds)\u001b[0m\n\u001b[0;32m    220\u001b[0m         \u001b[0mLet\u001b[0m \u001b[0mthe\u001b[0m \u001b[0mreaders\u001b[0m \u001b[0mopen\u001b[0m \u001b[0mIOHandles\u001b[0m \u001b[0mafter\u001b[0m \u001b[0mthey\u001b[0m \u001b[0mare\u001b[0m \u001b[0mdone\u001b[0m \u001b[1;32mwith\u001b[0m \u001b[0mtheir\u001b[0m \u001b[0mpotential\u001b[0m \u001b[0mraises\u001b[0m\u001b[1;33m.\u001b[0m\u001b[1;33m\u001b[0m\u001b[1;33m\u001b[0m\u001b[0m\n\u001b[0;32m    221\u001b[0m         \"\"\"\n\u001b[1;32m--> 222\u001b[1;33m         self.handles = get_handle(\n\u001b[0m\u001b[0;32m    223\u001b[0m             \u001b[0msrc\u001b[0m\u001b[1;33m,\u001b[0m\u001b[1;33m\u001b[0m\u001b[1;33m\u001b[0m\u001b[0m\n\u001b[0;32m    224\u001b[0m             \u001b[1;34m\"r\"\u001b[0m\u001b[1;33m,\u001b[0m\u001b[1;33m\u001b[0m\u001b[1;33m\u001b[0m\u001b[0m\n",
      "\u001b[1;32m~\\Anaconda3\\lib\\site-packages\\pandas\\io\\common.py\u001b[0m in \u001b[0;36mget_handle\u001b[1;34m(path_or_buf, mode, encoding, compression, memory_map, is_text, errors, storage_options)\u001b[0m\n\u001b[0;32m    700\u001b[0m         \u001b[1;32mif\u001b[0m \u001b[0mioargs\u001b[0m\u001b[1;33m.\u001b[0m\u001b[0mencoding\u001b[0m \u001b[1;32mand\u001b[0m \u001b[1;34m\"b\"\u001b[0m \u001b[1;32mnot\u001b[0m \u001b[1;32min\u001b[0m \u001b[0mioargs\u001b[0m\u001b[1;33m.\u001b[0m\u001b[0mmode\u001b[0m\u001b[1;33m:\u001b[0m\u001b[1;33m\u001b[0m\u001b[1;33m\u001b[0m\u001b[0m\n\u001b[0;32m    701\u001b[0m             \u001b[1;31m# Encoding\u001b[0m\u001b[1;33m\u001b[0m\u001b[1;33m\u001b[0m\u001b[1;33m\u001b[0m\u001b[0m\n\u001b[1;32m--> 702\u001b[1;33m             handle = open(\n\u001b[0m\u001b[0;32m    703\u001b[0m                 \u001b[0mhandle\u001b[0m\u001b[1;33m,\u001b[0m\u001b[1;33m\u001b[0m\u001b[1;33m\u001b[0m\u001b[0m\n\u001b[0;32m    704\u001b[0m                 \u001b[0mioargs\u001b[0m\u001b[1;33m.\u001b[0m\u001b[0mmode\u001b[0m\u001b[1;33m,\u001b[0m\u001b[1;33m\u001b[0m\u001b[1;33m\u001b[0m\u001b[0m\n",
      "\u001b[1;31mFileNotFoundError\u001b[0m: [Errno 2] No such file or directory: 'compitino_dataviz_2021_2022.csv'"
     ]
    }
   ],
   "source": [
    "df = pd.read_csv('compitino_dataviz_2021_2022.csv')"
   ]
  },
  {
   "cell_type": "markdown",
   "id": "977518cf",
   "metadata": {},
   "source": [
    "Divido righe MentalScore e PhisicalScore"
   ]
  },
  {
   "cell_type": "code",
   "execution_count": null,
   "id": "3458fd32",
   "metadata": {},
   "outputs": [],
   "source": [
    "physical = df[df['nome_modulistica'] == 'SF12 PhysicalScore'].reset_index()\n",
    "physical = physical.rename(columns = {'score_preop':'physical_score_preop', 'score_postop':'physical_score_postop'})\n",
    "mental = df[df['nome_modulistica'] == 'SF12 MentalScore'].reset_index()\n",
    "mental = mental.rename(columns = {'score_preop':'mental_score_preop', 'score_postop':'mental_score_postop'})"
   ]
  },
  {
   "cell_type": "markdown",
   "id": "6624ab8d",
   "metadata": {},
   "source": [
    "Unisco in un'unico dataset, generando degli attributi relativi al singolo score"
   ]
  },
  {
   "cell_type": "code",
   "execution_count": null,
   "id": "98cbd4b1",
   "metadata": {},
   "outputs": [],
   "source": [
    "df1 = pd.concat([physical, mental[['mental_score_preop', 'mental_score_postop']]], axis = 1)\n",
    "df1.drop('index', axis = 1, inplace = True)\n",
    "df1.drop('nome_modulistica', axis = 1, inplace = True)\n",
    "columns_names = ['physical_score_preop',\n",
    " 'physical_score_postop', \n",
    " 'mental_score_preop',\n",
    " 'mental_score_postop',\n",
    " 'condizioni_meteo',\n",
    " 'sesso',\n",
    " 'anni_ricovero',\n",
    " 'temperatura_media',\n",
    " 'umidita_media',\n",
    " 'HI > 27',\n",
    " 'natural_light']\n",
    "df1 = df1.reindex(columns=columns_names)"
   ]
  },
  {
   "cell_type": "markdown",
   "id": "a8739acf",
   "metadata": {},
   "source": [
    "Genero due nuove colonne contenti le differenze tra gli score post e pre operazione"
   ]
  },
  {
   "cell_type": "code",
   "execution_count": null,
   "id": "a549ac78",
   "metadata": {},
   "outputs": [],
   "source": [
    "physical_score_diff = df1['physical_score_postop'] - df1['physical_score_preop']\n",
    "mental_score_diff = df1['mental_score_postop'] - df1['mental_score_preop']\n",
    "df1.insert(2,\"physical_score_diff\", physical_score_diff)\n",
    "df1.insert(5,\"mental_score_diff\", mental_score_diff)"
   ]
  },
  {
   "cell_type": "markdown",
   "id": "42abdbfa",
   "metadata": {},
   "source": [
    "Converto le colonne delle variabili categoriche da stringhe a fattori"
   ]
  },
  {
   "cell_type": "code",
   "execution_count": null,
   "id": "8a497006",
   "metadata": {},
   "outputs": [],
   "source": [
    "df1['condizioni_meteo'] = df1['condizioni_meteo'].astype(\"category\")\n",
    "df1['sesso'] = df1['sesso'].astype(\"category\")"
   ]
  },
  {
   "cell_type": "markdown",
   "id": "7c74afd0",
   "metadata": {},
   "source": [
    "Aggiunta differenze physical-mental"
   ]
  },
  {
   "cell_type": "code",
   "execution_count": null,
   "id": "9a807c83",
   "metadata": {},
   "outputs": [],
   "source": [
    "physical_mental_diff_postop = df1['physical_score_postop'] - df1['mental_score_postop']\n",
    "physical_mental_diff_preop = df1['physical_score_preop'] - df1['mental_score_preop']\n",
    "df1.insert(6,\"physical_mental_diff_postop\", physical_mental_diff_postop)\n",
    "df1.insert(7,\"physical_mental_diff_preop\", physical_mental_diff_preop)\n",
    "mental_physical_diff_postop = df1['mental_score_postop'] - df1['physical_score_postop'] \n",
    "mental_physical_diff_preop = df1['mental_score_preop'] - df1['physical_score_preop']\n",
    "df1.insert(8,\"mental_physical_diff_postop\", mental_physical_diff_postop)\n",
    "df1.insert(9,\"mental_physical_diff_preop\", mental_physical_diff_preop)"
   ]
  },
  {
   "cell_type": "markdown",
   "id": "33885e7e",
   "metadata": {},
   "source": [
    "#### Splitting del dataset"
   ]
  },
  {
   "cell_type": "code",
   "execution_count": null,
   "id": "0fbc7714",
   "metadata": {},
   "outputs": [],
   "source": [
    "mental_score_dataset = df[df['nome_modulistica'] == 'SF12 MentalScore']\n",
    "physical_score_dataset = df[df['nome_modulistica'] == 'SF12 PhysicalScore']"
   ]
  },
  {
   "cell_type": "markdown",
   "id": "1a5fb88f",
   "metadata": {},
   "source": [
    "Drop colonna nome_modulistica"
   ]
  },
  {
   "cell_type": "code",
   "execution_count": null,
   "id": "bd6f37ab",
   "metadata": {},
   "outputs": [],
   "source": [
    "mental_score_dataset.drop('nome_modulistica', axis = 1, inplace = True)\n",
    "physical_score_dataset.drop('nome_modulistica',  axis = 1, inplace = True)"
   ]
  },
  {
   "cell_type": "markdown",
   "id": "4608cb93",
   "metadata": {},
   "source": [
    "Aggiungo la colonna delle differenze"
   ]
  },
  {
   "cell_type": "code",
   "execution_count": null,
   "id": "77ada0c6",
   "metadata": {},
   "outputs": [],
   "source": [
    "physical_score_dataset.insert(2,\"score_diff\", (physical_score_dataset['score_postop'] - physical_score_dataset['score_preop']).round(3))\n",
    "mental_score_dataset.insert(2,\"score_diff\", (mental_score_dataset['score_postop'] - mental_score_dataset['score_preop']).round(3))"
   ]
  },
  {
   "cell_type": "markdown",
   "id": "9e1560e2",
   "metadata": {},
   "source": [
    "# Visualizzazioni"
   ]
  },
  {
   "cell_type": "markdown",
   "id": "81cef4c7",
   "metadata": {},
   "source": [
    "Controllo le `condizioni_meteo` che predentano più di 30 osservazioni"
   ]
  },
  {
   "cell_type": "code",
   "execution_count": null,
   "id": "aa4fe457",
   "metadata": {
    "scrolled": true
   },
   "outputs": [],
   "source": [
    "df1.groupby('condizioni_meteo').size()"
   ]
  },
  {
   "cell_type": "markdown",
   "id": "b34732b4",
   "metadata": {},
   "source": [
    "Provo a ridurre il numero di categorie tenendo solo quelle con numerosià maggiore di 30"
   ]
  },
  {
   "cell_type": "code",
   "execution_count": null,
   "id": "f9da09b9",
   "metadata": {},
   "outputs": [],
   "source": [
    "condizioni_meteo_numerosità_sufficiente = ['nebbia al mattino', 'nubi sparse', 'pioggia debole', 'pioggia e schiarite', \\\n",
    "                                          'poco nuvoloso', 'sereno', 'sole e caldo']\n",
    "df1_significativo = df1[df1['condizioni_meteo'].isin(condizioni_meteo_numerosità_sufficiente)]\n",
    "df1_significativo[\"condizioni_meteo\"] = df1_significativo[\"condizioni_meteo\"].cat.remove_unused_categories()"
   ]
  },
  {
   "cell_type": "code",
   "execution_count": null,
   "id": "5b079e7d",
   "metadata": {},
   "outputs": [],
   "source": [
    "sns.set_style('white')\n",
    "fig, ax = plt.subplots(figsize= (14, 10))\n",
    "fig.patch.set_facecolor('#fbf9f4')\n",
    "ax.set_facecolor('#fbf9f4')\n",
    "#color_scale = [\"#1B9E77\", \"#D95F02\", \"#7570B3\", \"#E7298A\", \"#66A61E\", \"#E6AB02\", \"#A6761D\"]\n",
    "color_scale = [\"#7570B3\", \"#7570B3\", \"#7570B3\", \"#7570B3\", \"#7570B3\", \"#7570B3\", \"#7570B3\"]\n",
    "#linee_orizzontali = [20, 25, 30, 35, 40, 45, 50, 55, 60, 65, 70]\n",
    "linee_orizzontali = list(range(5, 75, 5))\n",
    "    \n",
    "BOX_PROPS = {\n",
    "    'boxprops':{'facecolor':'none', 'edgecolor':'#747473', 'zorder': 2, 'linewidth': 2},\n",
    "    'whiskerprops':{'color':'#747473', 'linewidth':2},\n",
    "    'medianprops':{'linewidth':'4', 'color':'#747473', 'solid_capstyle':'butt'},\n",
    "    'meanprops':{\"marker\":\"o\",\"markerfacecolor\":\"#850e00\", \"markeredgecolor\":\"#850e00\", 'zorder':3}\n",
    "}\n",
    "\n",
    "sns.violinplot(data=df1_significativo, x='condizioni_meteo', y='physical_score_postop',\n",
    "                    order=['sole e caldo', 'sereno', 'poco nuvoloso', 'nubi sparse', 'pioggia e schiarite', 'pioggia debole',\n",
    "                 'nebbia al mattino'], \\\n",
    "                    linewidth=1.4, \\\n",
    "                    inner = None, \\\n",
    "                    color = '#fbf9f4', \\\n",
    "                    scale = 'area', \\\n",
    "                    cut = 0, \\\n",
    "                    alpha = 1, \\\n",
    "                    zorder = 0,\\\n",
    "                    ax = ax)\n",
    "\n",
    "# Color_Palette\n",
    "bin = np.arange(15,85,1)\n",
    "df1_significativo['bin'] = pd.cut(abs(df1_significativo['physical_score_postop']),bin,precision=0)\n",
    "\n",
    " \n",
    "sns.boxplot(x = 'condizioni_meteo', y = 'physical_score_postop', data = df1_significativo, \\\n",
    "            order=['sole e caldo', 'sereno', 'poco nuvoloso', 'nubi sparse', 'pioggia e schiarite', 'pioggia debole',\n",
    "                 'nebbia al mattino'], \\\n",
    "            width = 0.3, \\\n",
    "            showcaps = False,\\\n",
    "            ax = ax,\\\n",
    "            #showmeans = True, \\\n",
    "            **BOX_PROPS)\n",
    "\n",
    "\n",
    "sns.stripplot(x = 'condizioni_meteo', y = 'physical_score_postop', data = df1_significativo,\n",
    "                      order=['sole e caldo', 'sereno', 'poco nuvoloso', 'nubi sparse', 'pioggia e schiarite', 'pioggia debole',\n",
    "                      'nebbia al mattino'], \n",
    "                      hue = 'bin',\n",
    "                      # Paletta divergente reversed\n",
    "                      palette = \"coolwarm_r\", \\\n",
    "                      jitter = 0.15, \\\n",
    "                      alpha = 0.45, \\\n",
    "                      linewidth = 0.1, \\\n",
    "                      s = 8,\n",
    "                      zorder = 1,\n",
    "                      ax = ax)\n",
    "\n",
    "plt.legend([],[], frameon=False)\n",
    "\n",
    "# Linee in background \n",
    "for h in linee_orizzontali:\n",
    "    if h == 50:\n",
    "        ax.axhline(50, color='k', ls=(0, (5, 5)), alpha=0.4, zorder=6)\n",
    "    else:\n",
    "        ax.axhline(h, color='#7F7F7F', ls=(0, (5, 5)), alpha=0.2, zorder=5)\n",
    "        \n",
    "\n",
    "# Contorno grafico\n",
    "ax.spines[\"right\"].set_color(\"none\")\n",
    "ax.spines[\"top\"].set_color(\"none\")\n",
    "ax.spines[\"left\"].set_color('#b4aea9')\n",
    "ax.spines[\"left\"].set_linewidth(2)\n",
    "ax.spines[\"bottom\"].set_color('#b4aea9')\n",
    "ax.spines[\"bottom\"].set_linewidth(2)\n",
    "\n",
    "# Customize labels and ticks\n",
    "ax.tick_params(length=0)\n",
    "ax.set_ylim(0,70)\n",
    "ax.set_yticks(linee_orizzontali)\n",
    "ax.set_yticklabels(linee_orizzontali, size=15)\n",
    "y_label_ita = \"SF-12 Physical Score postoperatorio a 3 mesi\"\n",
    "Y_label_eng = \"SF12 Physical postoperative PROM score 3 months\"\n",
    "ax.set_ylabel(y_label_ita, size=15, weight=\"bold\")\n",
    "ax.set_xlabel(\"Condizioni metereologiche\", size=15, weight=\"bold\", labelpad = 10)\n",
    "#x_labels (labelpad: spacing dall'asse)\n",
    "xlabels = ['sole e caldo', 'sereno', 'poco nuvoloso', 'nubi sparse', 'pioggia\\ne schiarite', 'pioggia debole','nebbia\\nal mattino']\n",
    "ax.set_xticklabels(xlabels, size=15, ha=\"center\", ma=\"center\")\n",
    "\n",
    "\n",
    "\n",
    "# Titolo\n",
    "titolo_italiano = \"Le condizioni metereologiche influenzano l'indice SF-12 Physical Score\\npostoperatorio a tre mesi da un'operazione chirurgica ?\"\n",
    "titolo_inglese = \"Do weather conditions affect post-operatory physical PROM scores?\"\n",
    "fig.suptitle(\n",
    "    titolo_italiano,\n",
    "    x = 0.125,\n",
    "    y = 1.01,\n",
    "    ha=\"left\",\n",
    "    fontsize=22,\n",
    "    weight=\"bold\",\n",
    "    wrap = True\n",
    ")\n",
    "\n",
    "\n",
    "# Sottotitolo\n",
    "sottotitolo_italiano = \"Distribuzione degli score postoperatori in funzione delle condizioni metereologiche per gruppi con più di 30 osservazioni\"\n",
    "ax.set_title(sottotitolo_italiano, loc='left', pad=23, fontsize=14)\n",
    "\n",
    "# Context\n",
    "tick_len = 0.25\n",
    "ax.plot([1, 1, 2, 2], [66.5 - tick_len, 66.5, 66.5, 66.5 - tick_len], c=\"black\")\n",
    "ax.plot([3, 3, 5, 5], [15 + tick_len, 15, 15, 15 + tick_len], c=\"black\")\n",
    "\n",
    "label1 = \"I valori di score più elevati\\nappartengono alle categorie\\n'sereno' e 'poco nuvoloso'\"\n",
    "label2 = \"Al peggioramento delle condizioni metereologiche\\nsi registrano valori di score sempre più bassi\"\n",
    "label3 = \"Uno score di 50 o inferiore\\nè considerato sintomo\\ndi scarsa condizione fisica [1]\"\n",
    "label4 = \"[1] Ware J, Kosinski M, Keller S. SF-12: How to score the SF-12 Physical and Mental Summary Scales. 2nd ed. Boston, MA: The Health Institute, New England Medical Center; 1995\"\n",
    "\n",
    "pad = 0.2\n",
    "ax.text(1.5, 66.5 + pad, label1, fontsize=14, va=\"bottom\", ha=\"center\") \n",
    "ax.text(4, 14.8 - pad, label2, fontsize=14, va=\"top\", ha=\"center\") \n",
    "ax.text(7, 50, label3, fontsize=14, va=\"center\", ha=\"center\")\n",
    "ax.text(-0.5, -10, label4, fontsize=10, va=\"center\", ha=\"left\")\n",
    "\n",
    "#Umidità media e intervallo di confidenza\n",
    "ax.text(0, 2.5, r'$\\overline{RH}=58,47 \\pm 3,17$', fontsize=10, va=\"center\", ha=\"center\") \n",
    "ax.text(1, 2.5, r'$\\overline{RH}=59,15 \\pm 3,60$', fontsize=10, va=\"center\", ha=\"center\") \n",
    "ax.text(2, 2.5, r'$\\overline{RH}=66,45 \\pm 2,63$', fontsize=10, va=\"center\", ha=\"center\")\n",
    "ax.text(3, 2.5, r'$\\overline{RH}=77,83 \\pm 10,06$', fontsize=10, va=\"center\", ha=\"center\")\n",
    "ax.text(4, 2.5, r'$\\overline{RH}=85,14 \\pm 2,84$', fontsize=10, va=\"center\", ha=\"center\") \n",
    "ax.text(5, 2.5, r'$\\overline{RH}=93,30 \\pm 4,47$', fontsize=10, va=\"center\", ha=\"center\")\n",
    "ax.text(6, 2.5, r'$\\overline{RH}=82,00 \\pm 3,55$', fontsize=10, va=\"center\", ha=\"center\")\n",
    "\n",
    "# SALVATAGGIO\n",
    "#fig.tight_layout()"
   ]
  },
  {
   "cell_type": "code",
   "execution_count": null,
   "id": "f358d74e",
   "metadata": {},
   "outputs": [],
   "source": [
    "sunto_umid = df1_significativo.groupby('condizioni_meteo')['umidita_media'].agg(['count', 'std', 'mean'])\n",
    "\n",
    "#INTERVALLO DI CONFIDENZA\n",
    "z = 1.96 #corrisponde a confidenza 95%\n",
    "\n",
    "sunto_umid['mean_conf_interv'] = 2 * z * sunto_umid['std'] / sunto_umid['count']**(1/2)\n",
    "sunto_umid['mean_conf_inf'] = sunto_umid['mean'] - z * sunto_umid['std'] / sunto_umid['count']**(1/2)\n",
    "sunto_umid['mean_conf_sup'] = sunto_umid['mean'] + z * sunto_umid['std'] / sunto_umid['count']**(1/2)\n",
    "\n",
    "sunto_umid"
   ]
  },
  {
   "cell_type": "code",
   "execution_count": null,
   "id": "dc583b0e",
   "metadata": {
    "scrolled": false
   },
   "outputs": [],
   "source": [
    "sns.set_style('white')\n",
    "fig, ax = plt.subplots(figsize= (14, 10))\n",
    "#Tentativo\n",
    "#fig, ax = plt.subplots(figsize= (5.67, 4.05))\n",
    "fig.patch.set_facecolor('#fbf9f4')\n",
    "ax.set_facecolor('#fbf9f4')\n",
    "#color_scale = [\"#1B9E77\", \"#D95F02\", \"#7570B3\", \"#E7298A\", \"#66A61E\", \"#E6AB02\", \"#A6761D\"]\n",
    "color_scale = [\"#7570B3\", \"#7570B3\", \"#7570B3\", \"#7570B3\", \"#7570B3\", \"#7570B3\", \"#7570B3\"]\n",
    "#linee_orizzontali = [20, 25, 30, 35, 40, 45, 50, 55, 60, 65, 70]\n",
    "linee_orizzontali = list(range(5, 75, 5))\n",
    "    \n",
    "BOX_PROPS = {\n",
    "    'boxprops':{'facecolor':'none', 'edgecolor':'#747473', 'zorder': 2, 'linewidth': 2},\n",
    "    'whiskerprops':{'color':'#747473', 'linewidth':2},\n",
    "    'medianprops':{'linewidth':'4', 'color':'#747473', 'solid_capstyle':'butt'},\n",
    "    'meanprops':{\"marker\":\"o\",\"markerfacecolor\":\"#850e00\", \"markeredgecolor\":\"#850e00\", 'zorder':3}\n",
    "}\n",
    "\n",
    "sns.violinplot(data=df1_significativo, x='condizioni_meteo', y='physical_score_postop',\n",
    "                    order=['sole e caldo', 'sereno', 'poco nuvoloso', 'nubi sparse', 'nebbia al mattino', 'pioggia e schiarite', \n",
    "                    'pioggia debole'], \\\n",
    "                    linewidth=1.4, \\\n",
    "                    inner = None, \\\n",
    "                    color = '#fbf9f4', \\\n",
    "                    scale = 'area', \\\n",
    "                    cut = 0, \\\n",
    "                    alpha = 1, \\\n",
    "                    zorder = 0,\\\n",
    "                    ax = ax)\n",
    "\n",
    "# Color_Palette\n",
    "#bin = np.arange(15,85,1)\n",
    "#df1_significativo['bin'] = pd.cut(abs(df1_significativo['physical_score_postop']),bin,precision=0)\n",
    "\n",
    " \n",
    "sns.boxplot(x = 'condizioni_meteo', y = 'physical_score_postop', data = df1_significativo, \\\n",
    "            order=['sole e caldo', 'sereno', 'poco nuvoloso', 'nubi sparse', 'nebbia al mattino', 'pioggia e schiarite', \n",
    "                    'pioggia debole'], \\\n",
    "            width = 0.3, \\\n",
    "            showcaps = False,\\\n",
    "            ax = ax,\\\n",
    "            #showmeans = True, \\\n",
    "            **BOX_PROPS)\n",
    "\n",
    "# Versione Divergente\n",
    "#sns.stripplot(x = 'condizioni_meteo', y = 'physical_score_postop', data = df1_significativo,\n",
    "#                      order=['sole e caldo', 'sereno', 'poco nuvoloso', 'nubi sparse', 'nebbia al mattino', 'pioggia e schiarite', \n",
    "#                             'pioggia debole'],\n",
    "#                      hue = 'bin',\n",
    "#                      # Paletta divergente reversed\n",
    "#                      palette = \"coolwarm_r\", \\\n",
    "#                      jitter = 0.15, \\\n",
    "#                      alpha = 0.45, \\\n",
    "#                      linewidth = 0.1, \\\n",
    "#                      s = 8,\n",
    "#                      zorder = 1,\n",
    "#                      ax = ax)\n",
    "\n",
    "# Versione relative humidity\n",
    "#bin = np.arange(0,101,1)\n",
    "#df1_significativo['bin'] = pd.cut(abs(df1_significativo['umidita_media']),bin,precision=0)\n",
    "stripplot = sns.stripplot(x = 'condizioni_meteo', y = 'physical_score_postop', hue = 'umidita_media', data = df1_significativo,\n",
    "                      order=['sole e caldo', 'sereno', 'poco nuvoloso', 'nubi sparse', 'nebbia al mattino', 'pioggia e schiarite', \n",
    "                             'pioggia debole'],\n",
    "                      # Paletta divergente reversed\n",
    "                      palette = \"viridis_r\", \\\n",
    "                      edgecolor = \"k\", \\\n",
    "                      jitter = True, \\\n",
    "                      alpha = 0.2, \\\n",
    "                      linewidth = 0.5, \\\n",
    "                      s = 8,\n",
    "                      zorder = 1,\n",
    "                      ax = ax)\n",
    "\n",
    "#legenda eliminata\n",
    "#plt.colorbar()\n",
    "plt.legend([],[], frameon=False)\n",
    "\n",
    "# Linee in background \n",
    "for h in linee_orizzontali:\n",
    "    if h == 50:\n",
    "        ax.axhline(50, color='k', ls=(0, (5, 5)), alpha=0.5, zorder=6)\n",
    "    else:\n",
    "        ax.axhline(h, color='#7F7F7F', ls=(0, (5, 5)), alpha=0.2, zorder=5)\n",
    "        \n",
    "\n",
    "# Contorno grafico\n",
    "ax.spines[\"right\"].set_color(\"none\")\n",
    "ax.spines[\"top\"].set_color(\"none\")\n",
    "ax.spines[\"left\"].set_color('#b4aea9')\n",
    "ax.spines[\"left\"].set_linewidth(2)\n",
    "ax.spines[\"bottom\"].set_color('#b4aea9')\n",
    "ax.spines[\"bottom\"].set_linewidth(2)\n",
    "\n",
    "# Customize labels and ticks\n",
    "ax.tick_params(length=0)\n",
    "ax.set_ylim(0,70)\n",
    "ax.set_yticks(linee_orizzontali)\n",
    "ax.set_yticklabels(linee_orizzontali, size=15)\n",
    "y_label_ita = \"SF-12 Physical Score postoperatorio a 3 mesi\"\n",
    "Y_label_eng = \"SF12 Physical postoperative PROM score 3 months\"\n",
    "ax.set_ylabel(y_label_ita, size=15, weight=\"bold\")\n",
    "ax.set_xlabel(\"Condizioni metereologiche\", size=15, weight=\"bold\", labelpad = 10)\n",
    "#x_labels (labelpad: spacing dall'asse)\n",
    "xlabels = ['sole e caldo', 'sereno', 'poco nuvoloso', 'nubi sparse','nebbia\\nal mattino', 'pioggia\\ne schiarite', 'pioggia debole']\n",
    "ax.set_xticklabels(xlabels, size=15, ha=\"center\", ma=\"center\")\n",
    "\n",
    "\n",
    "# Titolo\n",
    "titolo_italiano = \"Le condizioni metereologiche e l'umidità relativa influenzano l'indice\\nSF-12 Physical Score postoperatorio a tre mesi da un'operazione chirurgica ?\"\n",
    "titolo_inglese = \"Do weather conditions affect post-operatory physical PROM scores?\"\n",
    "fig.suptitle(\n",
    "    titolo_italiano,\n",
    "    x = 0.125,\n",
    "    y = 1.07,\n",
    "    ha=\"left\",\n",
    "    fontsize=22,\n",
    "    weight=\"bold\",\n",
    "    wrap = True\n",
    ")\n",
    "\n",
    "\n",
    "# Sottotitolo\n",
    "sottotitolo_italiano = \"Distribuzioni degli indici SF-12 Physical Score postoperatori in funzione delle condizioni metereologiche registrate nel giorno \\ndi compilazione del questionario da parte del paziente. Tra le possibili condizioni metereologiche sono state considerate solo\\nle modalità caratterizzanti più di 30 osservazioni. Il colore dei punti rappresentanti le singole osservazioni è definito in\\nfunzione del valore di umidità relativa media nel giorno della compilazione.\"\n",
    "ax.set_title(sottotitolo_italiano, loc='left', pad=23, fontsize=14)\n",
    "\n",
    "# Context\n",
    "#tick_len = 4\n",
    "#ax.plot([1, 1, 2, 2], [66.5 - tick_len, 66.5, 66.5, 66.5 - tick_len], c=\"black\")\n",
    "#ax.plot([3, 3, 5, 5], [15 + tick_len, 15, 15, 15 + tick_len], c=\"black\")\n",
    "\n",
    "#Umidità media e intervallo di confidenza\n",
    "ax.text(0, 2.5, r'$\\overline{RH}=58,47 \\pm 3,17$', fontsize=10, va=\"center\", ha=\"center\") \n",
    "ax.text(1, 2.5, r'$\\overline{RH}=59,15 \\pm 3,60$', fontsize=10, va=\"center\", ha=\"center\") \n",
    "ax.text(2, 2.5, r'$\\overline{RH}=66,45 \\pm 2,63$', fontsize=10, va=\"center\", ha=\"center\")\n",
    "ax.text(3, 2.5, r'$\\overline{RH}=77,83 \\pm 10,06$',fontsize=10, va=\"center\", ha=\"center\")\n",
    "ax.text(4, 2.5, r'$\\overline{RH}=85,14 \\pm 2,84$', fontsize=10, va=\"center\", ha=\"center\") \n",
    "ax.text(5, 2.5, r'$\\overline{RH}=93,30 \\pm 4,47$', fontsize=10, va=\"center\", ha=\"center\")\n",
    "ax.text(6, 2.5, r'$\\overline{RH}=82,00 \\pm 3,55$', fontsize=10, va=\"center\", ha=\"center\")\n",
    "\n",
    "# Colorbar\n",
    "cbar_ax = fig.add_axes([0.92, 0.17, 0.025, 0.4])\n",
    "\n",
    "# Create a normalizer that goes from minimum to maximum temperature\n",
    "norm = plt.Normalize(20, 100)\n",
    "\n",
    "# Create the colorbar and set it to horizontal\n",
    "cb = fig.colorbar(\n",
    "    plt.cm.ScalarMappable(norm=norm, cmap=\"viridis_r\"), \n",
    "    cax=cbar_ax, # Pass the new axis\n",
    "    orientation = \"vertical\",\n",
    "    ticks = [20,30,40,50,60,70,80,90,100],\n",
    "    alpha = 0.22\n",
    ")\n",
    "cb.set_label(\"Relative Humidity (${RH}$)\", size=15, weight=\"bold\")\n",
    "\n",
    "# Annotazioni\n",
    "label1 = \"I SF-12 Physical Score minimi si registrano in giorni\\npiovosi e caratterizzati da alti valori di umidità relativa media.\"\n",
    "\n",
    "ax.text(1, 8 - pad, label1, fontsize=14, va=\"bottom\", ha=\"left\") \n",
    "ax.annotate('', xy=(5, 16), xytext=(4, 11 - pad), \n",
    "            arrowprops=dict(arrowstyle=\"-[\", \n",
    "                            connectionstyle=\"angle3,angleA=0,angleB=-90\",\n",
    "                            color = 'k'))\n",
    "ax.annotate('', xy=(6, 15), xytext=(4.1, 11 - pad), \n",
    "            arrowprops=dict(arrowstyle=\"-[\", \n",
    "                            connectionstyle=\"angle3,angleA=0,angleB=-90\",\n",
    "                            color = 'k'))\n",
    "\n",
    "label2 = \"I SF-12 Physical Score massimi si registrano in giorni\\ncaratterizzati da condizioni di tempo 'sereno' e 'poco\\nnuvoloso' e da bassi valori di umidità relativa media.\"\n",
    "\n",
    "ax.text(3, 67 - pad, label1, fontsize=14, va=\"bottom\", ha=\"left\") \n",
    "ax.annotate('', xy=(1, 66), xytext=(3, 70 - pad), \n",
    "            arrowprops=dict(arrowstyle=\"-[\", \n",
    "                            connectionstyle=\"angle3,angleA=0,angleB=-90\",\n",
    "                            color = 'k'))\n",
    "ax.annotate('', xy=(2, 65), xytext=(3, 70 - pad), \n",
    "            arrowprops=dict(arrowstyle=\"-[\", \n",
    "                            connectionstyle=\"angle3,angleA=0,angleB=-90\",\n",
    "                            color = 'k'))\n",
    "# Asse 50 e citazione\n",
    "label3 = (\"Un PCS-12 score di 50 è il punto di\\n$cut$-$off$ raccomandato al di sotto del\\nquale viene determinata una condizione\\nfisica non ottimale nel paziente. [1]\")\n",
    "label4 = \"[1] Ware J, Kosinski M, Keller S. SF-12: How to score the SF-12 Physical and Mental Summary Scales. 2nd ed. Boston, The Health Institute, New England Medical Center; 1995\"\n",
    "\n",
    "pad = 0.2\n",
    "#ax.text(1.5, 66.5 + pad, label1, fontsize=14, va=\"bottom\", ha=\"center\", wrap = True) \n",
    "#ax.text(4, 14.8 - pad, label2, fontsize=14, va=\"top\", ha=\"center\") \n",
    "ax.text(6.5, 50, label3, fontsize=14, va=\"center\", ha=\"left\")\n",
    "ax.text(-0.5, -10, label4, fontsize=10, va=\"center\", ha=\"left\")\n",
    "\n",
    "#colorbar\n",
    "#norm = plt.Normalize(df1_significativo['umidita_media'].min(), df1_significativo['umidita_media'].max())\n",
    "#sm = plt.cm.ScalarMappable(cmap=\"viridis_r\", norm=norm)\n",
    "#sm.set_array([])\n",
    "\n",
    "# Remove the legend and add a colorbar\n",
    "#cbar = plt.colorbar(stripplot)\n",
    "#stripplot.get_legend().remove()\n",
    "#stripplot.figure.colorbar(sm, cax = 1)\n",
    "\n",
    "\n",
    "# SALVATAGGIO\n",
    "#fig.tight_layout()"
   ]
  }
 ],
 "metadata": {
  "kernelspec": {
   "display_name": "Python 3 (ipykernel)",
   "language": "python",
   "name": "python3"
  },
  "language_info": {
   "codemirror_mode": {
    "name": "ipython",
    "version": 3
   },
   "file_extension": ".py",
   "mimetype": "text/x-python",
   "name": "python",
   "nbconvert_exporter": "python",
   "pygments_lexer": "ipython3",
   "version": "3.8.8"
  }
 },
 "nbformat": 4,
 "nbformat_minor": 5
}
